{
 "cells": [
  {
   "cell_type": "markdown",
   "id": "1cc0501a",
   "metadata": {},
   "source": [
    "# Basic `numpy`\n",
    "\n",
    "In this notebook we will learn about the python package `numpy`.\n",
    "\n",
    "By the end of this notebook you will know about:\n",
    "- Checking the version of a python package,\n",
    "- `numpy` `ndarray`s,\n",
    "- `ndarray` functions,\n",
    "- `numpy` functions,\n",
    "- Pseudorandom numbers in `numpy` and\n",
    "- Linear algebra in `numpy`."
   ]
  },
  {
   "cell_type": "markdown",
   "id": "443bdb03",
   "metadata": {},
   "source": [
    "## `numpy`\n",
    "\n",
    "`numpy` is a python package that is a real workhorse of machine learning and data science.\n",
    "\n",
    "If you are new to python, this will be the first true package you will import. That being said we should check that you have the package installed, try to run the following code chunk. (Note if you installed the Anaconda platform, <a href=\"https://www.anaconda.com/\">https://www.anaconda.com/</a>, `numpy` should be installed already)."
   ]
  },
  {
   "cell_type": "code",
   "execution_count": 2,
   "id": "bbdf9bf8",
   "metadata": {},
   "outputs": [],
   "source": [
    "## it is standard to import numpy as np\n",
    "import numpy as np"
   ]
  },
  {
   "cell_type": "code",
   "execution_count": 4,
   "id": "39e8188a",
   "metadata": {},
   "outputs": [
    {
     "name": "stdout",
     "output_type": "stream",
     "text": [
      "1.26.4\n"
     ]
    }
   ],
   "source": [
    "## let's check what version of numpy you have\n",
    "## when I wrote this I had version 1.24.2\n",
    "## yours may be different\n",
    "print(np.__version__)"
   ]
  },
  {
   "cell_type": "markdown",
   "id": "f7bd8780",
   "metadata": {},
   "source": [
    "If you had a version of `numpy` installed, both of those code chunks should have run without error. If not, you will need to install it onto your machine because we will be using it heavily in the boot camp. For installation instructions check out the `numpy` documentation here, <a href=\"https://numpy.org/install/\">https://numpy.org/install/</a>. If you are unsure how to install a python package in general check our python package installation guide, <a href=\"https://www.erdosinstitute.org/data-science\">https://www.erdosinstitute.org/data-science</a>.\n",
    "\n",
    "\n",
    "##### Be sure you can run both of the above code chunks before continuing with this notebook, again it should be fine if your package version is slightly different than mine."
   ]
  },
  {
   "cell_type": "markdown",
   "id": "10208b8d",
   "metadata": {},
   "source": [
    "### `numpy`'s `ndarray`\n",
    "\n",
    "While base python likes to store data in objects like `list`s and `tuple`s, in `numpy` data is stored in an `ndarray` it is similar to a list, but has a number of features that make it more useful for numeric data manipulation in a number of data science applications.\n",
    "\n",
    "<a href=\"https://numpy.org/doc/stable/reference/generated/numpy.ndarray.html\">https://numpy.org/doc/stable/reference/generated/numpy.ndarray.html</a>."
   ]
  },
  {
   "cell_type": "code",
   "execution_count": 6,
   "id": "9471319d",
   "metadata": {},
   "outputs": [
    {
     "name": "stdout",
     "output_type": "stream",
     "text": [
      "[1 2 3 4]\n",
      "\n",
      "<class 'numpy.ndarray'>\n"
     ]
    }
   ],
   "source": [
    "## You can make an array with np.array\n",
    "## You just put np.array() around a python list or tuple\n",
    "array1 = np.array([1,2,3,4])\n",
    "print(array1)\n",
    "print()\n",
    "print(type(array1))"
   ]
  },
  {
   "cell_type": "markdown",
   "id": "52c085ff",
   "metadata": {},
   "source": [
    "`numpy` `ndarray`s can have any finite number of dimensions. This can be constructed by wrapping `np.array` around a `list` of `list`s."
   ]
  },
  {
   "cell_type": "code",
   "execution_count": 12,
   "id": "7fa372d4",
   "metadata": {},
   "outputs": [
    {
     "name": "stdout",
     "output_type": "stream",
     "text": [
      "[[1 2]\n",
      " [3 4]]\n",
      "\n",
      "array2 is a (2, 2) ndarray\n",
      "array2 is a (2, 2) ndarray\n"
     ]
    }
   ],
   "source": [
    "## this produces a 2-dimensional array\n",
    "## it is a 2x2 array\n",
    "array2 = np.array([[1,2],[3,4]])\n",
    "print(array2)\n",
    "print()\n",
    "\n",
    "## we can check the array's dimensions with np.shape()\n",
    "## np.shape() returns a tuple with the size of each dimension\n",
    "## array2 should be a 2 by 2 array\n",
    "print(\"array2 is a\", np.shape(array2), \"ndarray\")\n",
    "print(\"array2 is a\", array2.shape, \"ndarray\")"
   ]
  },
  {
   "cell_type": "code",
   "execution_count": 10,
   "id": "11769736",
   "metadata": {},
   "outputs": [
    {
     "data": {
      "text/plain": [
       "(2, 2)"
      ]
     },
     "execution_count": 10,
     "metadata": {},
     "output_type": "execute_result"
    }
   ],
   "source": [
    "array2.shape"
   ]
  },
  {
   "cell_type": "markdown",
   "id": "95773636",
   "metadata": {},
   "source": [
    "<i>Note: the dimensionality of an `ndarray` will be quite important in our boot camp because certain algorithms will not run if the `ndarray` is the wrong shape.</i>"
   ]
  },
  {
   "cell_type": "code",
   "execution_count": 16,
   "id": "d4716389",
   "metadata": {},
   "outputs": [
    {
     "name": "stdout",
     "output_type": "stream",
     "text": [
      "[[[1 2]\n",
      "  [3 4]]\n",
      "\n",
      " [[5 6]\n",
      "  [7 8]]]\n",
      "array3 is a (2, 2, 2) ndarray\n"
     ]
    }
   ],
   "source": [
    "## You code\n",
    "## Try making a 2x2x2 array\n",
    "array3 = np.array([[[1,2],[3,4]],[[5,6],[7,8]]])\n",
    "print(array3)\n",
    "print(\"array3 is a\",array3.shape,\"ndarray\")\n"
   ]
  },
  {
   "cell_type": "code",
   "execution_count": 56,
   "id": "bb1e8f35",
   "metadata": {},
   "outputs": [
    {
     "name": "stdout",
     "output_type": "stream",
     "text": [
      "[[[[ 1  2]\n",
      "   [ 3  4]]\n",
      "\n",
      "  [[ 5  6]\n",
      "   [ 7  8]]]\n",
      "\n",
      "\n",
      " [[[ 9 10]\n",
      "   [11 12]]\n",
      "\n",
      "  [[13 14]\n",
      "   [15 16]]]]\n",
      "array4 is a (2, 2, 2, 2) ndarray\n",
      "(4,)\n",
      "(1, 4)\n",
      "[[ 1  4  9 16]]\n",
      "<class 'numpy.ndarray'>\n",
      "(1, 4)\n"
     ]
    }
   ],
   "source": [
    "## You code \n",
    "## Try making a 2x2x2x2 array\n",
    "array4 = np.array([[[[1,2],[3,4]],[[5,6],[7,8]]],[[[9,10],[11,12]],[[13,14],[15,16]]]])\n",
    "print(array4)\n",
    "print(\"array4 is a\",array4.shape,\"ndarray\")\n",
    "testa1 = np.array([1,2,3,4])\n",
    "print(testa1.shape)\n",
    "testa2 = np.array([[1,2,3,4]])\n",
    "print(testa2.shape)\n",
    "print(testa1*testa2)\n",
    "print(type(testa1*testa2))\n",
    "print(np.shape(testa1*testa2))\n"
   ]
  },
  {
   "cell_type": "markdown",
   "id": "142af141",
   "metadata": {},
   "source": [
    "### `ndarray` Functions\n",
    "\n",
    "#### Vectorized Operations\n",
    "\n",
    "`ndarray`s are nice because, for the most part, they work the way you'd expect a vector or matrix to work. Let's compare and contrast with python's `list`s."
   ]
  },
  {
   "cell_type": "code",
   "execution_count": 22,
   "id": "59fa0666",
   "metadata": {},
   "outputs": [
    {
     "name": "stdout",
     "output_type": "stream",
     "text": [
      "[1, 2, 3, 4, 1, 2, 3, 4]\n",
      "<class 'list'>\n"
     ]
    }
   ],
   "source": [
    "## You code\n",
    "## see what happens when you code up 2*list1\n",
    "list1 = [1,2,3,4]\n",
    "print(2*list1)\n",
    "print(type(2*list1))\n"
   ]
  },
  {
   "cell_type": "code",
   "execution_count": 60,
   "id": "a2563d7b",
   "metadata": {},
   "outputs": [
    {
     "name": "stdout",
     "output_type": "stream",
     "text": [
      "[1 2 3 4]\n",
      "<class 'numpy.ndarray'>\n",
      "[2 4 6 8]\n",
      "(4,)\n"
     ]
    }
   ],
   "source": [
    "## You code\n",
    "## Now compare it to 2*array1\n",
    "array1 = np.array([1,2,3,4])\n",
    "print(array1)\n",
    "print(type(array1))\n",
    "print(2*array1)\n",
    "print(array1.shape)\n"
   ]
  },
  {
   "cell_type": "code",
   "execution_count": 62,
   "id": "24dfa6c1",
   "metadata": {},
   "outputs": [
    {
     "name": "stdout",
     "output_type": "stream",
     "text": [
      "[1, 2, 3, 4, 2, 2, 2, 2]\n",
      "[3 4 5 6]\n",
      "[2 4 6 8]\n"
     ]
    }
   ],
   "source": [
    "## what happens here?\n",
    "list2 = [2,2,2,2]\n",
    "array2 = np.array(list2)\n",
    "print(list1 + list2)\n",
    "print(array1+array2)\n",
    "print(array1*array2)"
   ]
  },
  {
   "cell_type": "code",
   "execution_count": null,
   "id": "80b661de",
   "metadata": {},
   "outputs": [],
   "source": [
    "## You code\n",
    "## code up the comparable ndarray expression\n",
    "## and see what happens\n"
   ]
  },
  {
   "cell_type": "code",
   "execution_count": 58,
   "id": "ebc8e7eb",
   "metadata": {},
   "outputs": [
    {
     "ename": "TypeError",
     "evalue": "can only concatenate list (not \"int\") to list",
     "output_type": "error",
     "traceback": [
      "\u001b[1;31m---------------------------------------------------------------------------\u001b[0m",
      "\u001b[1;31mTypeError\u001b[0m                                 Traceback (most recent call last)",
      "Cell \u001b[1;32mIn[58], line 2\u001b[0m\n\u001b[0;32m      1\u001b[0m \u001b[38;5;66;03m## Finally what happens here?\u001b[39;00m\n\u001b[1;32m----> 2\u001b[0m list1 \u001b[38;5;241m+\u001b[39m \u001b[38;5;241m2\u001b[39m\n",
      "\u001b[1;31mTypeError\u001b[0m: can only concatenate list (not \"int\") to list"
     ]
    }
   ],
   "source": [
    "## Finally what happens here?\n",
    "list1 + 2"
   ]
  },
  {
   "cell_type": "code",
   "execution_count": null,
   "id": "4a92941a",
   "metadata": {},
   "outputs": [],
   "source": [
    "## Try the comparable ndarray expression\n",
    "\n"
   ]
  },
  {
   "cell_type": "code",
   "execution_count": 64,
   "id": "8fde1bee",
   "metadata": {},
   "outputs": [
    {
     "data": {
      "text/plain": [
       "array([[1, 2],\n",
       "       [1, 2]])"
      ]
     },
     "execution_count": 64,
     "metadata": {},
     "output_type": "execute_result"
    }
   ],
   "source": [
    "A = np.array([[1,2], [1,2]])\n",
    "\n",
    "B = np.array([[1,1], [1,1]])\n",
    "\n",
    "\n",
    "A*B"
   ]
  },
  {
   "cell_type": "markdown",
   "id": "ff429ad8",
   "metadata": {},
   "source": [
    "### Preset `numpy` Arrays\n",
    "\n",
    "There are a number of standard array types that you will want to use, that can be quickly generated."
   ]
  },
  {
   "cell_type": "code",
   "execution_count": 246,
   "id": "64174fc6",
   "metadata": {},
   "outputs": [
    {
     "name": "stdout",
     "output_type": "stream",
     "text": [
      "[1.]\n",
      "[[1.]\n",
      " [1.]\n",
      " [1.]]\n",
      "\n",
      "[[1. 1. 1. 1. 1. 1. 1. 1. 1. 1.]\n",
      " [1. 1. 1. 1. 1. 1. 1. 1. 1. 1.]\n",
      " [1. 1. 1. 1. 1. 1. 1. 1. 1. 1.]\n",
      " [1. 1. 1. 1. 1. 1. 1. 1. 1. 1.]]\n",
      "\n",
      "[[[1. 1.]\n",
      "  [1. 1.]]\n",
      "\n",
      " [[1. 1.]\n",
      "  [1. 1.]]]\n",
      "\n",
      "[[[1. 1.]\n",
      "  [1. 1.]\n",
      "  [1. 1.]]\n",
      "\n",
      " [[1. 1.]\n",
      "  [1. 1.]\n",
      "  [1. 1.]]]\n"
     ]
    }
   ],
   "source": [
    "## np.ones(shape) makes an array of all ones of the desired shape\n",
    "print(np.ones(1))\n",
    "print(np.ones((3,1)))\n",
    "print()\n",
    "\n",
    "print(np.ones((4,10)))\n",
    "\n",
    "print()\n",
    "\n",
    "print(np.ones((2,2,2)))\n",
    "\n",
    "print()\n",
    "print(np.ones((2,3,2)))"
   ]
  },
  {
   "cell_type": "code",
   "execution_count": 86,
   "id": "cacbdfd8",
   "metadata": {},
   "outputs": [
    {
     "name": "stdout",
     "output_type": "stream",
     "text": [
      "[0. 0. 0. 0.]\n",
      "[[0. 0. 0. 0. 0.]\n",
      " [0. 0. 0. 0. 0.]\n",
      " [0. 0. 0. 0. 0.]\n",
      " [0. 0. 0. 0. 0.]]\n",
      "[[[0. 0. 0. 0.]]\n",
      "\n",
      " [[0. 0. 0. 0.]]\n",
      "\n",
      " [[0. 0. 0. 0.]]]\n"
     ]
    }
   ],
   "source": [
    "## You code\n",
    "## np.zeros(shape) is similar to np.ones, but instead of 1s\n",
    "## it makes an array of 0s\n",
    "## print 3 arrays of zeros, \n",
    "## one that is a single dimension of size 4\n",
    "print(np.zeros(4))\n",
    "\n",
    "## one that is 4x5\n",
    "print(np.zeros((4,5)))\n",
    "\n",
    "## one that is 3x1x4\n",
    "print(np.zeros((3,1,4)))"
   ]
  },
  {
   "cell_type": "code",
   "execution_count": 88,
   "id": "ba91450d",
   "metadata": {},
   "outputs": [
    {
     "data": {
      "text/plain": [
       "array([[1., 0.],\n",
       "       [0., 1.]])"
      ]
     },
     "execution_count": 88,
     "metadata": {},
     "output_type": "execute_result"
    }
   ],
   "source": [
    "## nxn identity matrix \n",
    "## np.eye(n)\n",
    "\n",
    "## 2x2\n",
    "np.eye(2)"
   ]
  },
  {
   "cell_type": "markdown",
   "id": "7bd1939b",
   "metadata": {},
   "source": [
    "### Built-In `numpy` Functions\n",
    "\n",
    "`numpy` also has a number of built-in functions that provide useful mathematical operations on arrays. Let's look at some examples."
   ]
  },
  {
   "cell_type": "code",
   "execution_count": 90,
   "id": "233a98e7",
   "metadata": {},
   "outputs": [
    {
     "data": {
      "text/plain": [
       "array([-2,  0,  2])"
      ]
     },
     "execution_count": 90,
     "metadata": {},
     "output_type": "execute_result"
    }
   ],
   "source": [
    "y = 2*np.array([1,2,3]) - 4\n",
    "y"
   ]
  },
  {
   "cell_type": "code",
   "execution_count": 92,
   "id": "ad7eead2",
   "metadata": {},
   "outputs": [
    {
     "data": {
      "text/plain": [
       "array([2, 0, 2])"
      ]
     },
     "execution_count": 92,
     "metadata": {},
     "output_type": "execute_result"
    }
   ],
   "source": [
    "## absolute value\n",
    "np.abs(y)"
   ]
  },
  {
   "cell_type": "code",
   "execution_count": 94,
   "id": "7af4efed",
   "metadata": {},
   "outputs": [
    {
     "data": {
      "text/plain": [
       "array([-8,  0,  8], dtype=int32)"
      ]
     },
     "execution_count": 94,
     "metadata": {},
     "output_type": "execute_result"
    }
   ],
   "source": [
    "## raising each entry to a power\n",
    "np.power(y, 3)"
   ]
  },
  {
   "cell_type": "code",
   "execution_count": 96,
   "id": "792803a6",
   "metadata": {},
   "outputs": [
    {
     "data": {
      "text/plain": [
       "array([1.41421356, 0.        , 1.41421356])"
      ]
     },
     "execution_count": 96,
     "metadata": {},
     "output_type": "execute_result"
    }
   ],
   "source": [
    "## the square root\n",
    "np.sqrt(np.abs(y))"
   ]
  },
  {
   "cell_type": "code",
   "execution_count": 98,
   "id": "c95cc65e",
   "metadata": {},
   "outputs": [
    {
     "name": "stdout",
     "output_type": "stream",
     "text": [
      "[  20.08553692   55.29129721  149.51177139  404.81508785 1098.24259634]\n"
     ]
    }
   ],
   "source": [
    "## You code\n",
    "## using np.exp and np.log define y to be \n",
    "## e^(x+3) + log(|x|+1)\n",
    "## https://numpy.org/doc/stable/reference/generated/numpy.exp.html\n",
    "## https://numpy.org/doc/stable/reference/generated/numpy.log.html\n",
    "x = np.array([0,1,2,3,4])\n",
    "\n",
    "y = np.exp(x + 3) + np.log(np.abs(x)+1)\n",
    "print(y)"
   ]
  },
  {
   "cell_type": "code",
   "execution_count": 100,
   "id": "7869d535",
   "metadata": {},
   "outputs": [
    {
     "data": {
      "text/plain": [
       "1727.946289722884"
      ]
     },
     "execution_count": 100,
     "metadata": {},
     "output_type": "execute_result"
    }
   ],
   "source": [
    "## You can sum all of the entries of an array with\n",
    "## np.sum\n",
    "np.sum(y)"
   ]
  },
  {
   "cell_type": "markdown",
   "id": "e38b44df",
   "metadata": {},
   "source": [
    "### `numpy` for Pseudorandomness\n",
    "\n",
    "`numpy` is useful for generating pseudorandom numbers as well. We can look at common statistics of arrays too.\n",
    "\n",
    "The pseudorandom functionality is stored in the `random` subpackage of `numpy`. Documentation for `numpy.random` can be found here, <a href=\"https://numpy.org/doc/stable/reference/random/index.html\">https://numpy.org/doc/stable/reference/random/index.html</a>."
   ]
  },
  {
   "cell_type": "code",
   "execution_count": 102,
   "id": "76797101",
   "metadata": {},
   "outputs": [
    {
     "name": "stdout",
     "output_type": "stream",
     "text": [
      "0.8563365880577016\n",
      "\n",
      "A (10,2) uniform random array:\n",
      " [[0.44170545 0.14846579]\n",
      " [0.39095894 0.14962467]\n",
      " [0.8062816  0.89934406]\n",
      " [0.60809838 0.50223978]\n",
      " [0.61541651 0.19105387]\n",
      " [0.19448965 0.58550267]\n",
      " [0.74749167 0.27767935]\n",
      " [0.91298028 0.77148202]\n",
      " [0.87450925 0.86482157]\n",
      " [0.88292504 0.51123171]]\n"
     ]
    }
   ],
   "source": [
    "## random generators are stored in np.random\n",
    "## a np.random.random() gives a number selected uniformly\n",
    "## at random from [0,1]\n",
    "## https://numpy.org/doc/stable/reference/random/generated/numpy.random.random.html\n",
    "print(np.random.random())\n",
    "\n",
    "\n",
    "print()\n",
    "\n",
    "## You can get a random array of any shape as well\n",
    "## just call np.random.random(tuple containing the shape)\n",
    "print(\"A (10,2) uniform random array:\\n\", np.random.random((10,2)))"
   ]
  },
  {
   "cell_type": "code",
   "execution_count": 104,
   "id": "ecde2fc6",
   "metadata": {},
   "outputs": [
    {
     "name": "stdout",
     "output_type": "stream",
     "text": [
      "0.8348343257270952\n",
      "\n"
     ]
    },
    {
     "data": {
      "text/plain": [
       "array([[-0.29190635, -0.75031079],\n",
       "       [ 0.72506167, -2.38623296],\n",
       "       [-0.53811394,  2.10383879],\n",
       "       [ 1.09757639, -0.48921424],\n",
       "       [-0.00416104,  0.47254274],\n",
       "       [ 0.39049699,  0.39999116],\n",
       "       [ 0.04285513,  1.13685226],\n",
       "       [ 0.9662249 , -0.40264473],\n",
       "       [ 0.13121035, -1.61608459],\n",
       "       [-0.41247931, -1.02453894]])"
      ]
     },
     "execution_count": 104,
     "metadata": {},
     "output_type": "execute_result"
    }
   ],
   "source": [
    "## Another Example\n",
    "## np.random.randn() is a normal(0,1) number\n",
    "## a single draw\n",
    "## https://numpy.org/doc/stable/reference/random/generated/numpy.random.randn.html\n",
    "print(np.random.randn())\n",
    "print()\n",
    "\n",
    "## an array of draws\n",
    "## note the slight difference here, we don't have to put\n",
    "## the 10 and 2 in a tuple to get a 10 by 2 array\n",
    "## numpy is slightly inconsistent in this area so always\n",
    "## check the docs to get it right\n",
    "np.random.randn(10,2)"
   ]
  },
  {
   "cell_type": "code",
   "execution_count": 106,
   "id": "641ae1db",
   "metadata": {},
   "outputs": [
    {
     "data": {
      "text/plain": [
       "array([[1, 0, 0, 1, 2, 2, 1, 1, 1, 0],\n",
       "       [2, 0, 1, 4, 3, 2, 2, 1, 0, 2],\n",
       "       [0, 1, 0, 1, 1, 0, 1, 2, 0, 0],\n",
       "       [1, 0, 1, 1, 2, 2, 3, 2, 1, 2],\n",
       "       [1, 0, 2, 1, 1, 2, 1, 3, 1, 2],\n",
       "       [3, 3, 0, 2, 1, 1, 2, 1, 0, 2],\n",
       "       [2, 1, 2, 1, 1, 1, 1, 2, 0, 3],\n",
       "       [1, 2, 3, 2, 1, 0, 1, 0, 2, 1],\n",
       "       [2, 1, 0, 1, 1, 1, 1, 0, 1, 3],\n",
       "       [3, 0, 1, 1, 0, 1, 1, 1, 1, 0]])"
      ]
     },
     "execution_count": 106,
     "metadata": {},
     "output_type": "execute_result"
    }
   ],
   "source": [
    "## A third example\n",
    "## np.random.binomial()\n",
    "## an array of binomial(n,p) outcomes\n",
    "## https://numpy.org/doc/stable/reference/random/generated/numpy.random.binomial.html\n",
    "np.random.binomial(n=4, p=.3, size=(10,10))"
   ]
  },
  {
   "cell_type": "markdown",
   "id": "0baa5eeb",
   "metadata": {},
   "source": [
    "##### Random Seeds\n",
    "\n",
    "You may have noticed that your randomly generated numbers are different from the ones in the pre-recorded lecture (if you are watching the lecture that is!). This is expected because they are random numbers. It would be quite the coincidence if two different runs came up with the exact same random draw (for the random distributions we have looked at above).\n",
    "\n",
    "If you want to ensure that you get the same random draw across runs you first need to set a random seed. In `numpy` this is done with `numpy.random.seed()`, <a href=\"https://numpy.org/doc/stable/reference/random/generated/numpy.random.seed.html\">https://numpy.org/doc/stable/reference/random/generated/numpy.random.seed.html</a>. Let's see it in action."
   ]
  },
  {
   "cell_type": "code",
   "execution_count": 108,
   "id": "517a417c",
   "metadata": {},
   "outputs": [
    {
     "data": {
      "text/plain": [
       "-0.3202545309014756"
      ]
     },
     "execution_count": 108,
     "metadata": {},
     "output_type": "execute_result"
    }
   ],
   "source": [
    "## Run this code chunk as many times as you'd like\n",
    "## it should always give the same number\n",
    "\n",
    "## to set a random seed you call np.random.seed(integer >= 0)\n",
    "## Note that your number can be any integer so long as it is non-negative\n",
    "np.random.seed(440)\n",
    "\n",
    "np.random.randn()"
   ]
  },
  {
   "cell_type": "code",
   "execution_count": null,
   "id": "0eea3469",
   "metadata": {},
   "outputs": [],
   "source": [
    "## You code\n",
    "## make a 20 by 3 array of random normal draws\n",
    "## call it X\n"
   ]
  },
  {
   "cell_type": "code",
   "execution_count": 114,
   "id": "771dbee9",
   "metadata": {},
   "outputs": [
    {
     "name": "stdout",
     "output_type": "stream",
     "text": [
      "[[0.49741579 0.39982054 0.08956063]\n",
      " [0.5594893  0.03832875 0.92552836]\n",
      " [0.77865063 0.98506181 0.77502697]\n",
      " [0.04135899 0.00125934 0.07847089]\n",
      " [0.17169482 0.21963058 0.06946665]\n",
      " [0.01967315 0.76461879 0.34570528]\n",
      " [0.58430586 0.82386976 0.39929596]\n",
      " [0.40996564 0.80692319 0.39496919]\n",
      " [0.68929737 0.54993611 0.80498689]\n",
      " [0.48603669 0.26196425 0.23952881]\n",
      " [0.04197445 0.46215449 0.31370164]\n",
      " [0.85887576 0.67827105 0.15761274]\n",
      " [0.16364569 0.96668126 0.68805602]\n",
      " [0.73190901 0.16732379 0.31775201]\n",
      " [0.2828468  0.56241965 0.89241039]\n",
      " [0.96448319 0.18627339 0.44923298]\n",
      " [0.24444636 0.5080841  0.59115081]\n",
      " [0.25295694 0.80132931 0.40761757]\n",
      " [0.71478842 0.230394   0.87785799]\n",
      " [0.03415932 0.52328707 0.15705729]]\n"
     ]
    }
   ],
   "source": [
    "X = np.random.random((20,3))\n",
    "print(X)"
   ]
  },
  {
   "cell_type": "markdown",
   "id": "6bb2128d",
   "metadata": {},
   "source": [
    "Now that you have a data matrix, `X`. Let's compute some summary statistics about `X`."
   ]
  },
  {
   "cell_type": "code",
   "execution_count": 120,
   "id": "792d9bd3",
   "metadata": {},
   "outputs": [
    {
     "name": "stdout",
     "output_type": "stream",
     "text": [
      "The overall mean of X is 0.45734324118835923\n",
      "\n",
      "The column means of X are [0.42639871 0.49688156 0.44874945]\n",
      "\n",
      "The row means of X are [0.32893232 0.50778214 0.84624647 0.04036307 0.15359735 0.37666574\n",
      " 0.60249053 0.53728601 0.68140679 0.32917658 0.27261019 0.56491985\n",
      " 0.60612766 0.4056616  0.57922561 0.53332985 0.44789376 0.48730127\n",
      " 0.60768014 0.23816789]\n",
      "\n"
     ]
    }
   ],
   "source": [
    "## You can get the mean of all the entries of X with np.mean\n",
    "## https://numpy.org/doc/stable/reference/generated/numpy.mean.html\n",
    "print(\"The overall mean of X is\", np.mean(X))\n",
    "print()\n",
    "\n",
    "## Adding in the argument \"axis = \" allows you to get\n",
    "## the mean of each column\n",
    "print(\"The column means of X are\", np.mean(X, axis=0))\n",
    "print()\n",
    "\n",
    "## and the mean of each row\n",
    "print(\"The row means of X are\", np.mean(X, axis=1))\n",
    "print()\n",
    "\n",
    "## the axis argument tells numpy the axis or axes along \n",
    "## which the means are computed.\n",
    "## so axis = 0 adds up the values in each row position\n",
    "## and divides by the number of rows\n",
    "\n",
    "## If you find this confusing, do not worry, I do too"
   ]
  },
  {
   "cell_type": "code",
   "execution_count": 124,
   "id": "9c76efeb",
   "metadata": {},
   "outputs": [
    {
     "name": "stdout",
     "output_type": "stream",
     "text": [
      "Row sums of X is\n",
      " [0.98679696 1.52334641 2.53873941 0.12108922 0.46079205 1.12999722\n",
      " 1.80747158 1.61185802 2.04422037 0.98752975 0.81783058 1.69475954\n",
      " 1.81838297 1.21698481 1.73767684 1.59998956 1.34368127 1.46190382\n",
      " 1.82304042 0.71450368]\n",
      "\n",
      "\n",
      "Column sums of X is\n",
      " [8.52797415 9.93763123 8.97498908]\n"
     ]
    }
   ],
   "source": [
    "## You code\n",
    "## np.sum also has an axis argument\n",
    "## https://numpy.org/doc/stable/reference/generated/numpy.sum.html\n",
    "## calculate the row sums and column sums of X\n",
    "print(\"Row sums of X is\\n\", np.sum(X, axis=1))\n",
    "\n",
    "print()\n",
    "print()\n",
    "\n",
    "print(\"Column sums of X is\\n\", np.sum(X, axis=0))\n",
    "\n",
    "\n"
   ]
  },
  {
   "cell_type": "code",
   "execution_count": 134,
   "id": "8631b02a",
   "metadata": {},
   "outputs": [
    {
     "name": "stdout",
     "output_type": "stream",
     "text": [
      "The max. values of each column of X occur at the [15  2  1] rows\n",
      "The max values in each column of X are [0.96448319 0.98506181 0.92552836]\n"
     ]
    }
   ],
   "source": [
    "## You code\n",
    "## where does the max value occur in each column of X?\n",
    "## https://numpy.org/doc/stable/reference/generated/numpy.argmax.html\n",
    "print(\"The max. values of each column of X occur at the\", np.argmax(X, axis=0), \"rows\")\n",
    "\n",
    "\n",
    "## what is the max value in each column of X?\n",
    "## https://numpy.org/doc/stable/reference/generated/numpy.ndarray.max.html\n",
    "print(\"The max values in each column of X are\", np.max(X, axis=0))\n"
   ]
  },
  {
   "cell_type": "code",
   "execution_count": 142,
   "id": "f53c5ee8",
   "metadata": {},
   "outputs": [
    {
     "name": "stdout",
     "output_type": "stream",
     "text": [
      "[9 1 6 4 5 6 8 2 1 6]\n"
     ]
    },
    {
     "data": {
      "text/plain": [
       "array([ 9, 10, 16, 20, 25, 31, 39, 41, 42, 48])"
      ]
     },
     "execution_count": 142,
     "metadata": {},
     "output_type": "execute_result"
    }
   ],
   "source": [
    "## Another useful function is np.cumsum()\n",
    "## https://numpy.org/doc/stable/reference/generated/numpy.cumsum.html\n",
    "\n",
    "## randint generates a random integer between the\n",
    "## first two arguments, the third argument tells numpy\n",
    "## how many random draws to perform\n",
    "## https://numpy.org/doc/stable/reference/random/generated/numpy.random.randint.html\n",
    "x = np.random.randint(1,10,10)\n",
    "\n",
    "print(x)\n",
    "\n",
    "np.cumsum(x)\n",
    "\n",
    "## What do you think it does?"
   ]
  },
  {
   "cell_type": "markdown",
   "id": "7e4a43b7",
   "metadata": {},
   "source": [
    "### Linear Algebra with `numpy`\n",
    "\n",
    "A final important use for us is `numpy` as a way to perform linear algebra calculations.\n",
    "\n",
    "A bulk of data science algorithms use linear algebra, since we will dive into the math behind the scenes of these algorithms we will use `numpy`'s linear algebra capabilities.\n",
    "\n",
    "##### Note: If you're not a math heavy person, that's okay! I have written the boot camp's notebooks so that you don't need to understand the math to learn how to perform the algorithms we cover. I just like to cover the mathematical aspects of these data science algorithms to explain what is going on to those boot campers (like myself) that are interested in the mathematical/statistical underpinnings of the algorithms."
   ]
  },
  {
   "cell_type": "code",
   "execution_count": 230,
   "id": "8a187c25",
   "metadata": {},
   "outputs": [
    {
     "data": {
      "text/plain": [
       "array([[5, 7],\n",
       "       [4, 3]])"
      ]
     },
     "execution_count": 230,
     "metadata": {},
     "output_type": "execute_result"
    }
   ],
   "source": [
    "## We can think of a 2D array as a matrix\n",
    "A = np.random.binomial(n=10,p=.4,size=(2,2))\n",
    "\n",
    "A"
   ]
  },
  {
   "cell_type": "code",
   "execution_count": 236,
   "id": "d5a9caa6",
   "metadata": {},
   "outputs": [
    {
     "name": "stdout",
     "output_type": "stream",
     "text": [
      "[1 2]\n"
     ]
    }
   ],
   "source": [
    "## A 1d array can be a row vector\n",
    "x = np.array([1,2])\n",
    "x.shape\n",
    "print(x)"
   ]
  },
  {
   "cell_type": "code",
   "execution_count": 238,
   "id": "2c499257",
   "metadata": {},
   "outputs": [
    {
     "name": "stdout",
     "output_type": "stream",
     "text": [
      "[[1]\n",
      " [2]]\n"
     ]
    }
   ],
   "source": [
    "## or a column vector\n",
    "## .reshape() will attempt to reshape your array into the given\n",
    "## shape\n",
    "## https://numpy.org/doc/stable/reference/generated/numpy.ndarray.reshape.html\n",
    "\n",
    "## When one of the shape dimensions is -1, the value is inferred from \n",
    "## the length of the array and remaining dimensions.\n",
    "## so -1,1 tells numpy that you want a 2-D array with 1 column\n",
    "## and it should infer the number of rows from the original shape\n",
    "## of the array\n",
    "## Here this reshapes x as a 2x1 column vector\n",
    "x.reshape(-1, 1).shape\n",
    "print(x.reshape(-1,1))\n"
   ]
  },
  {
   "cell_type": "code",
   "execution_count": 240,
   "id": "ece2ce33",
   "metadata": {},
   "outputs": [
    {
     "data": {
      "text/plain": [
       "array([[19],\n",
       "       [10]])"
      ]
     },
     "execution_count": 240,
     "metadata": {},
     "output_type": "execute_result"
    }
   ],
   "source": [
    "## We can now calculate A*x\n",
    "## matrix.dot() is used for matrix mult\n",
    "A.dot(x.reshape(-1,1))"
   ]
  },
  {
   "cell_type": "code",
   "execution_count": 252,
   "id": "a1e26d3d",
   "metadata": {},
   "outputs": [
    {
     "name": "stdout",
     "output_type": "stream",
     "text": [
      "[[3 1 1]\n",
      " [2 4 4]\n",
      " [4 3 3]] x [[1.]\n",
      " [1.]\n",
      " [1.]] = [[ 5.]\n",
      " [10.]\n",
      " [10.]]\n"
     ]
    }
   ],
   "source": [
    "## You code\n",
    "## make a 3x1 column vector of ones, call it x\n",
    "x = np.ones((3,1))\n",
    "\n",
    "np.random.seed(576)\n",
    "## Take that vector and find B*x\n",
    "B = np.random.binomial(n=5, p=.6, size=(3,3))\n",
    "\n",
    "\n",
    "print(B, \"x\", x, \"=\", B.dot(x))\n",
    "\n",
    "## code here\n"
   ]
  },
  {
   "cell_type": "code",
   "execution_count": 254,
   "id": "3b4a1e9c",
   "metadata": {},
   "outputs": [],
   "source": [
    "## numpy.linalg contains a number of useful\n",
    "## matrix operations, let's import a few\n",
    "## note this is just for brevity in typing\n",
    "from numpy.linalg import inv, eig, det"
   ]
  },
  {
   "cell_type": "code",
   "execution_count": 256,
   "id": "d94f2c26",
   "metadata": {},
   "outputs": [
    {
     "data": {
      "text/plain": [
       "array([[5, 7],\n",
       "       [4, 3]])"
      ]
     },
     "execution_count": 256,
     "metadata": {},
     "output_type": "execute_result"
    }
   ],
   "source": [
    "## Recall our A\n",
    "A"
   ]
  },
  {
   "cell_type": "code",
   "execution_count": 258,
   "id": "a4978123",
   "metadata": {},
   "outputs": [
    {
     "data": {
      "text/plain": [
       "array([[-0.23076923,  0.53846154],\n",
       "       [ 0.30769231, -0.38461538]])"
      ]
     },
     "execution_count": 258,
     "metadata": {},
     "output_type": "execute_result"
    }
   ],
   "source": [
    "## the inverse of A\n",
    "## Note you may get an error here if A is not\n",
    "## invertible\n",
    "inv(A)"
   ]
  },
  {
   "cell_type": "code",
   "execution_count": 260,
   "id": "fe83d45a",
   "metadata": {},
   "outputs": [
    {
     "data": {
      "text/plain": [
       "-13.0"
      ]
     },
     "execution_count": 260,
     "metadata": {},
     "output_type": "execute_result"
    }
   ],
   "source": [
    "## the determinant of A\n",
    "det(A)"
   ]
  },
  {
   "cell_type": "code",
   "execution_count": 262,
   "id": "510f2ba1",
   "metadata": {},
   "outputs": [
    {
     "data": {
      "text/plain": [
       "EigResult(eigenvalues=array([ 9.38516481, -1.38516481]), eigenvectors=array([[ 0.84744477, -0.73880807],\n",
       "       [ 0.53088357,  0.6739159 ]]))"
      ]
     },
     "execution_count": 262,
     "metadata": {},
     "output_type": "execute_result"
    }
   ],
   "source": [
    "## the eigenvalues and eigenvectors of A\n",
    "eig(A)\n",
    "\n",
    "## this returns a tuple of arrays\n",
    "## the first entry are the eigenvalues\n",
    "## the second entry are the corresponding eigenvectors"
   ]
  },
  {
   "cell_type": "code",
   "execution_count": 264,
   "id": "b23bc8a8",
   "metadata": {},
   "outputs": [
    {
     "data": {
      "text/plain": [
       "array([[5, 4],\n",
       "       [7, 3]])"
      ]
     },
     "execution_count": 264,
     "metadata": {},
     "output_type": "execute_result"
    }
   ],
   "source": [
    "## matrix.transpose() computes the transpose of the matrix\n",
    "A.transpose()"
   ]
  },
  {
   "cell_type": "code",
   "execution_count": 266,
   "id": "d3d5e832",
   "metadata": {},
   "outputs": [
    {
     "name": "stdout",
     "output_type": "stream",
     "text": [
      "[[ 2.23076923]\n",
      " [-1.30769231]]\n"
     ]
    }
   ],
   "source": [
    "## You code\n",
    "b = np.array([2,5]).reshape(-1,1)\n",
    "\n",
    "## Attempt to solve Ax = b for x\n",
    "## Hint remember that if A is invertible, \n",
    "## x = A^{-1} b, where A^{-1} is the inverse of A\n",
    "print(inv(A).dot(b))"
   ]
  },
  {
   "cell_type": "markdown",
   "id": "1a38ee65",
   "metadata": {},
   "source": [
    "That's it for this notebook. You have now been introduced to `numpy` and our ready to take on the practice problems. Be sure to get a fair level of comfort with `numpy`'s functionality because we will be using it a lot."
   ]
  },
  {
   "cell_type": "markdown",
   "id": "5e35bfeb",
   "metadata": {},
   "source": [
    "--------------------------\n",
    "\n",
    "This notebook was written for the Erd&#337;s Institute C&#337;de Data Science Boot Camp by Matthew Osborne, Ph. D., 2023.\n",
    "\n",
    "Any potential redistributors must seek and receive permission from Matthew Tyler Osborne, Ph.D. prior to redistribution. Redistribution of the material contained in this repository is conditional on acknowledgement of Matthew Tyler Osborne, Ph.D.'s original authorship and sponsorship of the Erdős Institute as subject to the license (see License.md)"
   ]
  },
  {
   "cell_type": "code",
   "execution_count": null,
   "id": "a2ce880e",
   "metadata": {},
   "outputs": [],
   "source": []
  },
  {
   "cell_type": "code",
   "execution_count": null,
   "id": "8b7e68d2",
   "metadata": {},
   "outputs": [],
   "source": []
  }
 ],
 "metadata": {
  "kernelspec": {
   "display_name": "Python [conda env:base] *",
   "language": "python",
   "name": "conda-base-py"
  },
  "language_info": {
   "codemirror_mode": {
    "name": "ipython",
    "version": 3
   },
   "file_extension": ".py",
   "mimetype": "text/x-python",
   "name": "python",
   "nbconvert_exporter": "python",
   "pygments_lexer": "ipython3",
   "version": "3.12.7"
  }
 },
 "nbformat": 4,
 "nbformat_minor": 5
}
