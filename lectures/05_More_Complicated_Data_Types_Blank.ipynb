{
 "cells": [
  {
   "cell_type": "markdown",
   "id": "972c0e1a",
   "metadata": {},
   "source": [
    "# More Complicated Data Types\n",
    "\n",
    "In this notebook we will introduce some slightly more complicated data types. <i>If you have experience with coding you may be able to skip this notebook.</i>\n",
    "\n",
    "By the end of this notebook you will know about:\n",
    "- Python `list`s,\n",
    "- Python `tuple`s,\n",
    "- Python `sets`s and\n",
    "- Python `dict`s.\n",
    "\n",
    "Let's get started!"
   ]
  },
  {
   "cell_type": "markdown",
   "id": "f87b3bed",
   "metadata": {},
   "source": [
    "## `list`s\n",
    "\n",
    "A `list` is a collection of python objects (for example, `int`s, `float`s and `str`s).\n",
    "\n",
    "They are <i>mutable</i> meaning that you can change them once they are created. \n",
    "\n",
    "Here's a link to the python documentation on lists <a href=\"https://docs.python.org/3/c-api/list.html\">https://docs.python.org/3/c-api/list.html</a>."
   ]
  },
  {
   "cell_type": "code",
   "execution_count": null,
   "id": "85d3d246",
   "metadata": {},
   "outputs": [],
   "source": [
    "## Lists are made by placing objects\n",
    "## within square brackets, separated by commas\n",
    "[\"This\", \"is\", \"a\", \"list\", \"of\", \"strs\"]"
   ]
  },
  {
   "cell_type": "code",
   "execution_count": null,
   "id": "ceea7383",
   "metadata": {},
   "outputs": [],
   "source": [
    "## Lists can consist of more than one kind of\n",
    "## python object, even other lists\n",
    "[\"This\", 15, \"a\", [\"list\"], True]"
   ]
  },
  {
   "cell_type": "markdown",
   "id": "6b97c950",
   "metadata": {},
   "source": [
    "`list`s can be indexed, meaning you can access specific entries using numerical indices. In python a `list`'s index begins with `0`, so the first entry is the `0`th entry. You can also index in reverse using negative numbers, where the reverse goes from the right, beginning with `-1`."
   ]
  },
  {
   "cell_type": "markdown",
   "id": "680d4771",
   "metadata": {},
   "source": [
    "#### Quick Aside: Variables\n",
    "\n",
    "Often we will want to store a value for reuse, this is done with <i>variables</i>. Creating a variable tells your computer to store a piece of data in its memory, with the variable serving as a pointer to that data."
   ]
  },
  {
   "cell_type": "code",
   "execution_count": null,
   "id": "7a001765",
   "metadata": {},
   "outputs": [],
   "source": [
    "## you store a value in a variable like so\n",
    "## here we've named the variable x\n",
    "x = 4.3"
   ]
  },
  {
   "cell_type": "code",
   "execution_count": 12,
   "id": "74fdcbf8",
   "metadata": {},
   "outputs": [
    {
     "data": {
      "text/plain": [
       "bool"
      ]
     },
     "execution_count": 12,
     "metadata": {},
     "output_type": "execute_result"
    }
   ],
   "source": [
    "x = True\n",
    "type(x)"
   ]
  },
  {
   "cell_type": "markdown",
   "id": "f5cafd56",
   "metadata": {},
   "source": [
    "We will touch more on this in the next notebook.\n",
    "\n",
    "#### Back to `list`s\n",
    "\n",
    "Let's see list indices in action."
   ]
  },
  {
   "cell_type": "code",
   "execution_count": 16,
   "id": "fda2d1de",
   "metadata": {},
   "outputs": [],
   "source": [
    "## run this code\n",
    "## Here are the indices for the list fruit_basket\n",
    "## forwards:       0        1         2        3        4         5\n",
    "## backwards:     -6       -5        -4       -3       -2        -1\n",
    "fruit_basket = [\"apple\", \"banana\", \"grapes\", \"kiwi\", \"lemon\", \"grapefruit\"]"
   ]
  },
  {
   "cell_type": "code",
   "execution_count": 18,
   "id": "f810c542",
   "metadata": {},
   "outputs": [
    {
     "data": {
      "text/plain": [
       "'apple'"
      ]
     },
     "execution_count": 18,
     "metadata": {},
     "output_type": "execute_result"
    }
   ],
   "source": [
    "## You can index a list like so\n",
    "fruit_basket[0]"
   ]
  },
  {
   "cell_type": "code",
   "execution_count": 20,
   "id": "3dca482f",
   "metadata": {},
   "outputs": [
    {
     "data": {
      "text/plain": [
       "'grapes'"
      ]
     },
     "execution_count": 20,
     "metadata": {},
     "output_type": "execute_result"
    }
   ],
   "source": [
    "## Here's an example with the reverse indexing\n",
    "fruit_basket[-4]"
   ]
  },
  {
   "cell_type": "code",
   "execution_count": 40,
   "id": "99f847f0",
   "metadata": {},
   "outputs": [
    {
     "name": "stdin",
     "output_type": "stream",
     "text": [
      " 1\n"
     ]
    },
    {
     "name": "stdout",
     "output_type": "stream",
     "text": [
      "The 1 th item in the fruit basket is apple\n"
     ]
    }
   ],
   "source": [
    "## You code\n",
    "## What is the 3rd entry of the fruit_basket?\n",
    "## What about the 2nd entry from the right?\n",
    "test_list = [1,3,5,\"str\"]\n",
    "test_list[-4]\n",
    "a = int(input())\n",
    "print(\"The\",a,\"th item in the fruit basket is\",fruit_basket[a-1])\n"
   ]
  },
  {
   "cell_type": "code",
   "execution_count": 72,
   "id": "7f4ab270",
   "metadata": {},
   "outputs": [
    {
     "name": "stdout",
     "output_type": "stream",
     "text": [
      "['apple', 'banana']\n"
     ]
    }
   ],
   "source": [
    "## You code\n",
    "## Index the list with 1:4, what is returned?\n",
    "print(fruit_basket[:2])\n"
   ]
  },
  {
   "cell_type": "markdown",
   "id": "ef64d696",
   "metadata": {},
   "source": [
    "## If you want a run of consecutive list items you can always get them with `i:j` where `i` is the index of the first item and `j` is the index of the item right after the last item.\n",
    "\n",
    "So in other words `i:j` returns the items in positions `i, i+1, i+2, ..., j-2, j-1`.\n",
    "\n",
    "Further, if you want all list items up to item `i`, you can use `:i`. Likewise, if you want all items from index `i` on you can use `i:`."
   ]
  },
  {
   "cell_type": "code",
   "execution_count": null,
   "id": "6c5b3bc4",
   "metadata": {},
   "outputs": [],
   "source": [
    "## Here we get everything from item 2 onward,\n",
    "## Note item 2 is actually the 3rd item in the list\n",
    "fruit_basket[2:]"
   ]
  },
  {
   "cell_type": "markdown",
   "id": "1a7b6233",
   "metadata": {},
   "source": [
    "### `list`s are mutable\n",
    "\n",
    "Remember that I said `list`s are mutable, meaning you can change the entries at will."
   ]
  },
  {
   "cell_type": "code",
   "execution_count": 76,
   "id": "92f9b682",
   "metadata": {},
   "outputs": [
    {
     "data": {
      "text/plain": [
       "['apple', 'banana', 'grapes', 'kiwi', 'lime', 'grapefruit']"
      ]
     },
     "execution_count": 76,
     "metadata": {},
     "output_type": "execute_result"
    }
   ],
   "source": [
    "## You code\n",
    "## overwrite the \"lemon\" in the fruit_basket with a \"lime\"\n",
    "fruit_basket[4] = \"lime\"\n",
    "fruit_basket\n"
   ]
  },
  {
   "cell_type": "markdown",
   "id": "b5f12721",
   "metadata": {},
   "source": [
    "### Built-in `list` Methods\n",
    "\n",
    "Python also has a number of handy built-in `list` functions, let's look at a couple now."
   ]
  },
  {
   "cell_type": "code",
   "execution_count": null,
   "id": "070c440e",
   "metadata": {},
   "outputs": [],
   "source": [
    "## We can add an entry to the end of any list\n",
    "## with .append()\n",
    "fruit_basket.append(\"plum\")"
   ]
  },
  {
   "cell_type": "code",
   "execution_count": 90,
   "id": "9201ed09",
   "metadata": {},
   "outputs": [
    {
     "data": {
      "text/plain": [
       "[1, 2, 3, 4, 'str', 'a']"
      ]
     },
     "execution_count": 90,
     "metadata": {},
     "output_type": "execute_result"
    }
   ],
   "source": [
    "test = [1,2,3,4]\n",
    "test.extend([\"str\",\"a\"])\n",
    "test"
   ]
  },
  {
   "cell_type": "code",
   "execution_count": null,
   "id": "b0b7f208",
   "metadata": {},
   "outputs": [],
   "source": [
    "## You can add a bunch of entries all at once\n",
    "## using .extend(another_list)\n",
    "fruit_basket.extend([\"pineapple\", \"mango\", \"coconut\"])"
   ]
  },
  {
   "cell_type": "code",
   "execution_count": null,
   "id": "e9250e7b",
   "metadata": {},
   "outputs": [],
   "source": [
    "fruit_basket"
   ]
  },
  {
   "cell_type": "code",
   "execution_count": 96,
   "id": "bbb9748a",
   "metadata": {},
   "outputs": [],
   "source": [
    "## You code\n",
    "## Run the following code and see what .sort() does\n",
    "test=[1,2,4,3]\n",
    "fruit_basket.sort()"
   ]
  },
  {
   "cell_type": "code",
   "execution_count": 102,
   "id": "33e8fd08",
   "metadata": {},
   "outputs": [
    {
     "ename": "TypeError",
     "evalue": "'<' not supported between instances of 'str' and 'int'",
     "output_type": "error",
     "traceback": [
      "\u001b[1;31m---------------------------------------------------------------------------\u001b[0m",
      "\u001b[1;31mTypeError\u001b[0m                                 Traceback (most recent call last)",
      "Cell \u001b[1;32mIn[102], line 3\u001b[0m\n\u001b[0;32m      1\u001b[0m \u001b[38;5;66;03m## Look at fruit_basket here\u001b[39;00m\n\u001b[0;32m      2\u001b[0m fruit_basket\n\u001b[1;32m----> 3\u001b[0m test\u001b[38;5;241m.\u001b[39msort()\n\u001b[0;32m      4\u001b[0m test\n",
      "\u001b[1;31mTypeError\u001b[0m: '<' not supported between instances of 'str' and 'int'"
     ]
    }
   ],
   "source": [
    "## Look at fruit_basket here\n",
    "fruit_basket\n",
    "test.sort()\n",
    "test\n"
   ]
  },
  {
   "cell_type": "markdown",
   "id": "e44d21dd",
   "metadata": {},
   "source": [
    "#### Indexing `str`s\n",
    "\n",
    "Similar to `list`s, `str`s can also be indexed. However, unlike `list`s strings are <i>not mutable</i>."
   ]
  },
  {
   "cell_type": "code",
   "execution_count": 110,
   "id": "4201df3d",
   "metadata": {},
   "outputs": [
    {
     "name": "stdout",
     "output_type": "stream",
     "text": [
      "the 4th and 6th ketter in this string are l   1\n"
     ]
    }
   ],
   "source": [
    "## You code\n",
    "## Find the 4th and 7th letter in this string\n",
    "test_string = \"apple is a computer\"\n",
    "print(\"the 4th and 6th ketter in this string are\",test_string[3],test_string[5],\"1\")"
   ]
  },
  {
   "cell_type": "markdown",
   "id": "614e6d5b",
   "metadata": {},
   "source": [
    "## `tuple`s\n",
    "\n",
    "A `tuple` is also a collection of general python objects (like a `list`) that is not mutable (unlike a `list`). This means that once we create a `tuple` we are unable to change a single element.\n",
    "\n",
    "Here's a link to the documentation on `tuple`s <a href=\"https://docs.python.org/3/tutorial/datastructures.html#tuples-and-sequences\">https://docs.python.org/3/tutorial/datastructures.html#tuples-and-sequences</a>."
   ]
  },
  {
   "cell_type": "code",
   "execution_count": null,
   "id": "cccf7f9d",
   "metadata": {},
   "outputs": [],
   "source": [
    "## A tuple is made by placing distinct objects\n",
    "## between parantheses separated by commas\n",
    "veggie_tray = (\"carrots\", \"corn\", \"brussels sprout\", \"brocoli\")"
   ]
  },
  {
   "cell_type": "code",
   "execution_count": 124,
   "id": "e980766e",
   "metadata": {},
   "outputs": [
    {
     "data": {
      "text/plain": [
       "[1, 1, 3, 4]"
      ]
     },
     "execution_count": 124,
     "metadata": {},
     "output_type": "execute_result"
    }
   ],
   "source": [
    "## You Code\n",
    "## What is the first entry in the veggie_tray from the left?\n",
    "## What is the first entry in the veggie_tray from the right?\n",
    "test_tuple = (1,2,3,4)\n",
    "test_list_1 = list(test_tuple)\n",
    "test_list_1[1] = 1\n",
    "test_list_1"
   ]
  },
  {
   "cell_type": "code",
   "execution_count": null,
   "id": "e81e1e80",
   "metadata": {},
   "outputs": [],
   "source": [
    "## You code\n",
    "## Try to overwrite the \"corn\" with \"peas\"\n",
    "## What happens?\n"
   ]
  },
  {
   "cell_type": "code",
   "execution_count": null,
   "id": "53395e06",
   "metadata": {},
   "outputs": [],
   "source": [
    "## You code\n",
    "## Put veggie_tray inside of list(), this casts the tuple as a list\n",
    "## store it in veggie_tray_list\n",
    "## Can you overwirte \"corn\" now?\n",
    "veggie_tray_list = list(veggie_tray)\n",
    "\n",
    "veggie_tray_list[1] = \"peas\"\n",
    "\n",
    "veggie_tray_list"
   ]
  },
  {
   "cell_type": "markdown",
   "id": "6c10e5b8",
   "metadata": {},
   "source": [
    "## `set`s\n",
    "\n",
    "Python also has a `set` object that is very similar to the mathematical notion of a set.\n",
    "\n",
    "Here's a link to the python documentation on `set`s, <a href=\"https://docs.python.org/3/tutorial/datastructures.html#sets\">https://docs.python.org/3/tutorial/datastructures.html#sets</a>."
   ]
  },
  {
   "cell_type": "code",
   "execution_count": null,
   "id": "8a6b620e",
   "metadata": {},
   "outputs": [],
   "source": [
    "## A set can be made by placing distinct\n",
    "## python objects between {}, separated by commas\n",
    "{\"this\", \"is\", \"a\", \"set\"}"
   ]
  },
  {
   "cell_type": "code",
   "execution_count": null,
   "id": "0cb812ae",
   "metadata": {},
   "outputs": [],
   "source": [
    "type({\"this\", \"is\", \"a\", \"set\"})"
   ]
  },
  {
   "cell_type": "code",
   "execution_count": 126,
   "id": "9d4e3690",
   "metadata": {},
   "outputs": [
    {
     "name": "stdout",
     "output_type": "stream",
     "text": [
      "{'mushrooms', 'beef', 'apples', 'onion powder', 'almond milk', 'milk', 'bread', 'chicken', 'bananas'}\n"
     ]
    }
   ],
   "source": [
    "## You can also use the command set()\n",
    "## This can be used to remove repeats from lists or tuples\n",
    "\n",
    "## you and your pal made a grocery list\n",
    "## but didn't check if the other person\n",
    "## already put an item on their list\n",
    "## use set() to make a more succinct grocery_list\n",
    "grocery_list = [\"apples\", \"bananas\", \"beef\", \"onion powder\",\n",
    "                   \"apples\", \"mushrooms\", \"milk\", \"almond milk\",\n",
    "                   \"bread\", \"beef\", \"chicken\"]\n",
    "\n",
    "## You code here\n",
    "print(set(grocery_list))\n"
   ]
  },
  {
   "cell_type": "markdown",
   "id": "f397ba07",
   "metadata": {},
   "source": [
    "### `set` Functions\n",
    "\n",
    "`set`s also have a number of useful functions as well. Perhaps the most important are those that mimic the operations for mathematical sets."
   ]
  },
  {
   "cell_type": "code",
   "execution_count": 128,
   "id": "30368719",
   "metadata": {},
   "outputs": [
    {
     "data": {
      "text/plain": [
       "{'apple'}"
      ]
     },
     "execution_count": 128,
     "metadata": {},
     "output_type": "execute_result"
    }
   ],
   "source": [
    "## Intersection\n",
    "set_1 = {'apple', 'computers'}\n",
    "set_2 = {'as', 'american', 'apple', 'pie'}\n",
    "\n",
    "## You can see what elements are in both lists using .intersection()\n",
    "set_1.intersection(set_2)"
   ]
  },
  {
   "cell_type": "code",
   "execution_count": 130,
   "id": "46f8e615",
   "metadata": {},
   "outputs": [
    {
     "data": {
      "text/plain": [
       "{'american', 'apple', 'as', 'computers', 'pie'}"
      ]
     },
     "execution_count": 130,
     "metadata": {},
     "output_type": "execute_result"
    }
   ],
   "source": [
    "## Union\n",
    "\n",
    "## You can see what elements are in either of your lists using .union()\n",
    "set_1.union(set_2)"
   ]
  },
  {
   "cell_type": "code",
   "execution_count": 132,
   "id": "a7d7b2b3",
   "metadata": {},
   "outputs": [
    {
     "data": {
      "text/plain": [
       "{'computers'}"
      ]
     },
     "execution_count": 132,
     "metadata": {},
     "output_type": "execute_result"
    }
   ],
   "source": [
    "## minus\n",
    "\n",
    "## You can find what is in one set, but not another set using minus\n",
    "set_1 - set_2"
   ]
  },
  {
   "cell_type": "code",
   "execution_count": 148,
   "id": "8adf4fdd",
   "metadata": {},
   "outputs": [
    {
     "data": {
      "text/plain": [
       "{1, 3, 5, 7, 8}"
      ]
     },
     "execution_count": 148,
     "metadata": {},
     "output_type": "execute_result"
    }
   ],
   "source": [
    "## You code - The empty set?\n",
    "\n",
    "## find the type of {}\n",
    "## Is it what you think it would be?\n",
    "set1 = {1,3,5,7}\n",
    "set2 = {1,3,5,8}\n",
    "set1.union(set2)"
   ]
  },
  {
   "cell_type": "markdown",
   "id": "3e252cf0",
   "metadata": {},
   "source": [
    "## `dict`s\n",
    "\n",
    "A python dictionary, or `dict`, is a way to store information in the form of keys and values. Each key is linked to a particular value that you can then index with the key, as opposed to integers. Each key is <i>unique</i>, meaning once you've used a key once, you can't use it again. This can be quite useful when you want to keep a tally of unique things in a list, for example, unique words in a sentence or book.\n",
    "\n",
    "Here is the python documentation on `dict`s <a href=\"https://docs.python.org/3/tutorial/datastructures.html#dictionaries\">https://docs.python.org/3/tutorial/datastructures.html#dictionaries</a>."
   ]
  },
  {
   "cell_type": "code",
   "execution_count": 178,
   "id": "a387e27f",
   "metadata": {},
   "outputs": [
    {
     "name": "stdout",
     "output_type": "stream",
     "text": [
      "{}\n",
      "<class 'dict'>\n",
      "dict_values([1, 2, 3])\n",
      "dict_keys(['a', 'b', 'c'])\n"
     ]
    },
    {
     "data": {
      "text/plain": [
       "1"
      ]
     },
     "execution_count": 178,
     "metadata": {},
     "output_type": "execute_result"
    }
   ],
   "source": [
    "## Dictionaries\n",
    "\n",
    "## It is best to think of a dictionary as a set of key: value pairs, \n",
    "## with the requirement that the keys are unique (within one dictionary). \n",
    "## A pair of braces creates an empty dictionary: {}\n",
    "print({})\n",
    "print(type({}))\n",
    "dict1 = {'a':1,'b':2, 'c':3}\n",
    "print(dict1.values())\n",
    "print(dict1.keys())\n",
    "dict1['a']"
   ]
  },
  {
   "cell_type": "code",
   "execution_count": 150,
   "id": "50db6233",
   "metadata": {},
   "outputs": [
    {
     "name": "stdout",
     "output_type": "stream",
     "text": [
      "{'apple': 1, 'as': 2, 'american': 1, 'pie': 1}\n",
      "\n",
      "practice_dict.keys(): dict_keys(['apple', 'as', 'american', 'pie'])\n",
      "\n",
      "practice_dict.values(): dict_values([1, 2, 1, 1])\n",
      "\n"
     ]
    }
   ],
   "source": [
    "## To define a dictionary you do the following\n",
    "## dict_name = {'key': value, 'key': value, 'key':value, ...}\n",
    "practice_dict = {'apple':1, 'as':2, 'american':1, 'pie':1}\n",
    "\n",
    "print(practice_dict)\n",
    "print()\n",
    "\n",
    "## these are the dictionary keys\n",
    "print(\"practice_dict.keys():\", practice_dict.keys())\n",
    "print()\n",
    "\n",
    "## these are the dictionary values\n",
    "print(\"practice_dict.values():\", practice_dict.values())\n",
    "print()"
   ]
  },
  {
   "cell_type": "code",
   "execution_count": null,
   "id": "b39abbd8",
   "metadata": {},
   "outputs": [],
   "source": [
    "## You can access the values for particular keys with this syntax\n",
    "## dictionary[key]\n",
    "practice_dict['apple']"
   ]
  },
  {
   "cell_type": "code",
   "execution_count": null,
   "id": "dd44cdbf",
   "metadata": {},
   "outputs": [],
   "source": [
    "## You code\n",
    "## what is the output of practice_dict.items()?\n",
    "\n"
   ]
  },
  {
   "cell_type": "code",
   "execution_count": 180,
   "id": "3c83daf4",
   "metadata": {},
   "outputs": [
    {
     "data": {
      "text/plain": [
       "{'egg': 2, 'milk': '500g', 'apple': 1}"
      ]
     },
     "execution_count": 180,
     "metadata": {},
     "output_type": "execute_result"
    }
   ],
   "source": [
    "## You code\n",
    "## Use a dictionary to store the ingredient amounts you \n",
    "## need for an imaginary recipe\n",
    "ingredients = {\"egg\":2, \"milk\":\"500g\", \"apple\":1}\n",
    "\n",
    "\n",
    "ingredients"
   ]
  },
  {
   "cell_type": "markdown",
   "id": "2dbf78d1",
   "metadata": {},
   "source": [
    "That's it for now."
   ]
  },
  {
   "cell_type": "markdown",
   "id": "4d61a1f7",
   "metadata": {},
   "source": [
    "--------------------------\n",
    "\n",
    "\n",
    "This notebook was written for the Erd&#337;s Institute C&#337;de Data Science Boot Camp by Matthew Osborne, Ph. D., 2023.\n",
    "\n",
    "Any potential redistributors must seek and receive permission from Matthew Tyler Osborne, Ph.D. prior to redistribution. Redistribution of the material contained in this repository is conditional on acknowledgement of Matthew Tyler Osborne, Ph.D.'s original authorship and sponsorship of the Erdős Institute as subject to the license (see License.md)"
   ]
  },
  {
   "cell_type": "code",
   "execution_count": null,
   "id": "4335031d",
   "metadata": {},
   "outputs": [],
   "source": []
  }
 ],
 "metadata": {
  "kernelspec": {
   "display_name": "Python [conda env:base] *",
   "language": "python",
   "name": "conda-base-py"
  },
  "language_info": {
   "codemirror_mode": {
    "name": "ipython",
    "version": 3
   },
   "file_extension": ".py",
   "mimetype": "text/x-python",
   "name": "python",
   "nbconvert_exporter": "python",
   "pygments_lexer": "ipython3",
   "version": "3.12.7"
  }
 },
 "nbformat": 4,
 "nbformat_minor": 5
}
