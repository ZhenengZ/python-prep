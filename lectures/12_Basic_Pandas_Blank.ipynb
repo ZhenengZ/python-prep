{
 "cells": [
  {
   "cell_type": "markdown",
   "id": "ca19730e",
   "metadata": {},
   "source": [
    "# Basic `pandas`\n",
    "\n",
    "In this notebook we will learn about `pandas` a vital data management package in python.\n",
    "\n",
    "By the end of this notebook you will know about:\n",
    "- `pandas` `Series` and `DataFrame` objects,\n",
    "- Indexing `pandas` objects,\n",
    "- Reading files with `pandas`,\n",
    "- Saving files with `pandas` and \n",
    "- Some helpful `pandas` functionality."
   ]
  },
  {
   "cell_type": "markdown",
   "id": "c8a619cc",
   "metadata": {},
   "source": [
    "## `pandas`\n",
    "\n",
    "`pandas` is one of the most popular data handling packages in `python`. We will cover the minimum you need to know about the package for the boot camp in this notebook.\n",
    "\n",
    "Let's start by importing the package. Just like in the previous notebook this should check whether or not you have `pandas` installed on your machine. If you are using Anaconda, <a href=\"https://www.anaconda.com/\">https://www.anaconda.com/</a>, `pandas` should be installed already. If not check out the documentation for installation instructions <a href=\"https://pandas.pydata.org/docs/getting_started/install.html\">https://pandas.pydata.org/docs/getting_started/install.html</a>."
   ]
  },
  {
   "cell_type": "code",
   "execution_count": 1,
   "id": "aef32933",
   "metadata": {},
   "outputs": [],
   "source": [
    "## it is standard to import pandas as pd\n",
    "import pandas as pd"
   ]
  },
  {
   "cell_type": "code",
   "execution_count": 3,
   "id": "00bee740",
   "metadata": {},
   "outputs": [
    {
     "name": "stdout",
     "output_type": "stream",
     "text": [
      "2.2.2\n"
     ]
    }
   ],
   "source": [
    "## let's check what version of numpy you have\n",
    "## when I wrote this I had version 1.5.3\n",
    "## yours may be different\n",
    "print(pd.__version__)"
   ]
  },
  {
   "cell_type": "markdown",
   "id": "38271b29",
   "metadata": {},
   "source": [
    "If you had a version of `pandas` installed, both of those code chunks should have executed without error. If not, you will need to install it onto your machine because we will be using it heavily in the boot camp. If you are unsure how to install a python package in general check our python package installation guide, <a href=\"https://www.erdosinstitute.org/data-science\">https://www.erdosinstitute.org/data-science</a>.\n",
    "\n",
    "##### Be sure you can run both of the above code chunks before continuing with this notebook, again it should be fine if your package version is slightly different than mine."
   ]
  },
  {
   "cell_type": "markdown",
   "id": "c4c8f019",
   "metadata": {},
   "source": [
    "### `Series` and `DataFrame`s\n",
    "\n",
    "`pandas` has two main data structures: \n",
    "1. `Series` objects, <a href=\"https://pandas.pydata.org/docs/reference/api/pandas.Series.html\">https://pandas.pydata.org/docs/reference/api/pandas.Series.html</a> and \n",
    "2. `DataFrame` objects, <a href=\"https://pandas.pydata.org/docs/reference/api/pandas.DataFrame.html\">https://pandas.pydata.org/docs/reference/api/pandas.DataFrame.html</a>. \n",
    "\n",
    "Let's explore them below."
   ]
  },
  {
   "cell_type": "code",
   "execution_count": 5,
   "id": "810bf69b",
   "metadata": {},
   "outputs": [
    {
     "name": "stdout",
     "output_type": "stream",
     "text": [
      "Below is a list.\n",
      "[0, 1, 2, 3] <class 'list'>\n",
      "\n",
      "Below is a pandas Series object.\n",
      "0    0\n",
      "1    1\n",
      "2    2\n",
      "3    3\n",
      "dtype: int64 <class 'pandas.core.series.Series'>\n"
     ]
    }
   ],
   "source": [
    "## We can turn a list into a series\n",
    "## with pd.Series()\n",
    "list1 = [0,1,2,3]\n",
    "print(\"Below is a list.\")\n",
    "print(list1, type(list1))\n",
    "print()\n",
    "print(\"Below is a pandas Series object.\")\n",
    "print(pd.Series(list1),type(pd.Series(list1)))"
   ]
  },
  {
   "cell_type": "markdown",
   "id": "51cd1de8",
   "metadata": {},
   "source": [
    "The second thing we printed was a `Series` object. Note the two columns of numbers. The first column is the index of the object, the second column contains the values of the object. We can access those two separately like below."
   ]
  },
  {
   "cell_type": "code",
   "execution_count": 7,
   "id": "3d35bea5",
   "metadata": {},
   "outputs": [],
   "source": [
    "series1 = pd.Series(list1)"
   ]
  },
  {
   "cell_type": "code",
   "execution_count": 9,
   "id": "037c574c",
   "metadata": {},
   "outputs": [
    {
     "data": {
      "text/plain": [
       "RangeIndex(start=0, stop=4, step=1)"
      ]
     },
     "execution_count": 9,
     "metadata": {},
     "output_type": "execute_result"
    }
   ],
   "source": [
    "## The index\n",
    "series1.index"
   ]
  },
  {
   "cell_type": "code",
   "execution_count": 13,
   "id": "250e449b",
   "metadata": {},
   "outputs": [
    {
     "data": {
      "text/plain": [
       "array([0, 1, 2, 3], dtype=int64)"
      ]
     },
     "execution_count": 13,
     "metadata": {},
     "output_type": "execute_result"
    }
   ],
   "source": [
    "## The values\n",
    "series1.values"
   ]
  },
  {
   "cell_type": "code",
   "execution_count": 17,
   "id": "958e56b2",
   "metadata": {},
   "outputs": [
    {
     "name": "stdout",
     "output_type": "stream",
     "text": [
      "0        5\n",
      "1        2\n",
      "2        3\n",
      "3        6\n",
      "4        a\n",
      "5        b\n",
      "6        e\n",
      "7     True\n",
      "8    False\n",
      "dtype: object\n"
     ]
    }
   ],
   "source": [
    "## You practice\n",
    "## Take the list labeled a and \n",
    "## turn it into a Series named b\n",
    "a = [5,2,3,6,'a','b','e',True,False]\n",
    "b = pd.Series(a)\n",
    "print(b)\n"
   ]
  },
  {
   "cell_type": "code",
   "execution_count": 21,
   "id": "0f169d10",
   "metadata": {},
   "outputs": [
    {
     "data": {
      "text/plain": [
       "False"
      ]
     },
     "execution_count": 21,
     "metadata": {},
     "output_type": "execute_result"
    }
   ],
   "source": [
    "## We can get select entries from a Series \n",
    "## using the index\n",
    "b[8]"
   ]
  },
  {
   "cell_type": "code",
   "execution_count": 23,
   "id": "9508b180",
   "metadata": {},
   "outputs": [
    {
     "name": "stdout",
     "output_type": "stream",
     "text": [
      "a    1\n",
      "b    2\n",
      "c    3\n",
      "d    4\n",
      "dtype: int64\n"
     ]
    }
   ],
   "source": [
    "## Note that we don't have to have our index be a list of numbers\n",
    "c = pd.Series([1,2,3,4], index=['a','b','c','d'])\n",
    "\n",
    "print(c)"
   ]
  },
  {
   "cell_type": "code",
   "execution_count": 25,
   "id": "9786bb80",
   "metadata": {},
   "outputs": [
    {
     "data": {
      "text/plain": [
       "2"
      ]
     },
     "execution_count": 25,
     "metadata": {},
     "output_type": "execute_result"
    }
   ],
   "source": [
    "## and we can access by index in the same way\n",
    "c['b']"
   ]
  },
  {
   "cell_type": "markdown",
   "id": "d2aadf9d",
   "metadata": {},
   "source": [
    "Now let's check out a `DataFrame`. `DataFrame`s are essentially a collection of `Series` with a common index. We can also think of them as a table of values with column and row labels."
   ]
  },
  {
   "cell_type": "code",
   "execution_count": 27,
   "id": "24222f4a",
   "metadata": {},
   "outputs": [
    {
     "name": "stdout",
     "output_type": "stream",
     "text": [
      "   one two  third column\n",
      "0    3   a             7\n",
      "1    4   b             7\n",
      "2    5   e             7\n",
      "3    2   h             7\n",
      "4    4   l             7\n",
      "5    5   p             7\n"
     ]
    }
   ],
   "source": [
    "## We can make a DataFrame using a dictionary\n",
    "## the dictionary keys are the column labels\n",
    "## the dictionary values are columns\n",
    "df = pd.DataFrame({'one':[3,4,5,2,4,5], \n",
    "                    'two':['a','b','e','h','l','p'],\n",
    "                    'third column':[7,7,7,7,7,7]})\n",
    "\n",
    "## NOTE that this is not the only way to make \n",
    "## a dataframe!\n",
    "\n",
    "print(df)"
   ]
  },
  {
   "cell_type": "markdown",
   "id": "28cd92f3",
   "metadata": {},
   "source": [
    "This is a `DataFrame`, the unlabeled column is the index, the labeled columns are `Series` objects themselves. We can access them in the following way."
   ]
  },
  {
   "cell_type": "code",
   "execution_count": 29,
   "id": "2114870c",
   "metadata": {},
   "outputs": [
    {
     "name": "stdout",
     "output_type": "stream",
     "text": [
      "0    3\n",
      "1    4\n",
      "2    5\n",
      "3    2\n",
      "4    4\n",
      "5    5\n",
      "Name: one, dtype: int64\n",
      "\n",
      "Note that each column is a Series object.\n",
      "<class 'pandas.core.series.Series'>\n"
     ]
    }
   ],
   "source": [
    "## If your column's name doesn't violate a couple of format rules\n",
    "## you can use\n",
    "## df.column_name\n",
    "print(df.one) \n",
    "print()\n",
    "print(\"Note that each column is a Series object.\")\n",
    "print(type(df.one))"
   ]
  },
  {
   "cell_type": "code",
   "execution_count": 31,
   "id": "ca7e05eb",
   "metadata": {},
   "outputs": [
    {
     "ename": "SyntaxError",
     "evalue": "invalid syntax. Perhaps you forgot a comma? (2118047889.py, line 4)",
     "output_type": "error",
     "traceback": [
      "\u001b[1;36m  Cell \u001b[1;32mIn[31], line 4\u001b[1;36m\u001b[0m\n\u001b[1;33m    print(df.third column)\u001b[0m\n\u001b[1;37m          ^\u001b[0m\n\u001b[1;31mSyntaxError\u001b[0m\u001b[1;31m:\u001b[0m invalid syntax. Perhaps you forgot a comma?\n"
     ]
    }
   ],
   "source": [
    "## However if our column name has spaces or certain characters in it\n",
    "## (like . , ! ? \"\" and so on)\n",
    "## we can't use .column_name\n",
    "print(df.third column)"
   ]
  },
  {
   "cell_type": "code",
   "execution_count": 33,
   "id": "1dfea85e",
   "metadata": {},
   "outputs": [
    {
     "data": {
      "text/plain": [
       "0    7\n",
       "1    7\n",
       "2    7\n",
       "3    7\n",
       "4    7\n",
       "5    7\n",
       "Name: third column, dtype: int64"
      ]
     },
     "execution_count": 33,
     "metadata": {},
     "output_type": "execute_result"
    }
   ],
   "source": [
    "## So we have to use df[\"column name\"] instead\n",
    "# or df['column_name']\n",
    "df['third column']"
   ]
  },
  {
   "cell_type": "code",
   "execution_count": 35,
   "id": "c81d39f6",
   "metadata": {},
   "outputs": [
    {
     "data": {
      "text/plain": [
       "RangeIndex(start=0, stop=6, step=1)"
      ]
     },
     "execution_count": 35,
     "metadata": {},
     "output_type": "execute_result"
    }
   ],
   "source": [
    "## Just like with a Series we can use .index\n",
    "## to get the index\n",
    "df.index"
   ]
  },
  {
   "cell_type": "code",
   "execution_count": 37,
   "id": "db5b59d4",
   "metadata": {},
   "outputs": [
    {
     "data": {
      "text/plain": [
       "array([[3, 'a', 7],\n",
       "       [4, 'b', 7],\n",
       "       [5, 'e', 7],\n",
       "       [2, 'h', 7],\n",
       "       [4, 'l', 7],\n",
       "       [5, 'p', 7]], dtype=object)"
      ]
     },
     "execution_count": 37,
     "metadata": {},
     "output_type": "execute_result"
    }
   ],
   "source": [
    "## .values returns a 2-D numpy ndarray with our columns\n",
    "df.values"
   ]
  },
  {
   "cell_type": "code",
   "execution_count": 49,
   "id": "fd35fe7c",
   "metadata": {},
   "outputs": [
    {
     "name": "stdout",
     "output_type": "stream",
     "text": [
      "    first second\n",
      "10      4      a\n",
      "11      5      c\n",
      "12      3      d\n",
      "13      4      g\n",
      "14      5      l\n",
      "15      6      m\n",
      "16      0      p\n",
      "7\n"
     ]
    }
   ],
   "source": [
    "## You code\n",
    "## Make a data frame, call it my_df \n",
    "## Make the first column labeled 'first' from a\n",
    "## Make the second column labeled 'second' from b\n",
    "## see what happens when you add , index=range(10,10+len(a)) \n",
    "## after the dictionary\n",
    "a = [4,5,3,4,5,6,0]\n",
    "b = ['a','c','d','g','l','m','p']\n",
    "my_df = pd.DataFrame({'first':a, 'second':b}, index=range(10,10+len(a)))\n",
    "print(my_df)\n",
    "print(len(a))\n"
   ]
  },
  {
   "cell_type": "code",
   "execution_count": null,
   "id": "fe30ba04",
   "metadata": {},
   "outputs": [],
   "source": [
    "my_df"
   ]
  },
  {
   "cell_type": "markdown",
   "id": "8264a77c",
   "metadata": {},
   "source": [
    "#### Locating `DataFrame` Entries With the Index\n",
    "\n",
    "Locating entries in a `DataFrame` is slightly more complicated than what we had to do for `Series` objects."
   ]
  },
  {
   "cell_type": "code",
   "execution_count": 109,
   "id": "064a02e8",
   "metadata": {},
   "outputs": [],
   "source": [
    "## You code\n",
    "## try to index the dataframe df like you would\n",
    "## a list or Series to find the entry corresponding\n",
    "## to index 1\n",
    "\n",
    "\n",
    "## What happens?"
   ]
  },
  {
   "cell_type": "markdown",
   "id": "b6cccc35",
   "metadata": {},
   "source": [
    "In order to get particular `DataFrame` entries you have to use one of two methods, `.loc[]` or `.iloc[]`."
   ]
  },
  {
   "cell_type": "code",
   "execution_count": 53,
   "id": "047ff765",
   "metadata": {},
   "outputs": [
    {
     "data": {
      "text/html": [
       "<div>\n",
       "<style scoped>\n",
       "    .dataframe tbody tr th:only-of-type {\n",
       "        vertical-align: middle;\n",
       "    }\n",
       "\n",
       "    .dataframe tbody tr th {\n",
       "        vertical-align: top;\n",
       "    }\n",
       "\n",
       "    .dataframe thead th {\n",
       "        text-align: right;\n",
       "    }\n",
       "</style>\n",
       "<table border=\"1\" class=\"dataframe\">\n",
       "  <thead>\n",
       "    <tr style=\"text-align: right;\">\n",
       "      <th></th>\n",
       "      <th>one</th>\n",
       "      <th>two</th>\n",
       "      <th>third column</th>\n",
       "    </tr>\n",
       "  </thead>\n",
       "  <tbody>\n",
       "    <tr>\n",
       "      <th>0</th>\n",
       "      <td>3</td>\n",
       "      <td>a</td>\n",
       "      <td>7</td>\n",
       "    </tr>\n",
       "    <tr>\n",
       "      <th>1</th>\n",
       "      <td>4</td>\n",
       "      <td>b</td>\n",
       "      <td>7</td>\n",
       "    </tr>\n",
       "    <tr>\n",
       "      <th>2</th>\n",
       "      <td>5</td>\n",
       "      <td>e</td>\n",
       "      <td>7</td>\n",
       "    </tr>\n",
       "    <tr>\n",
       "      <th>3</th>\n",
       "      <td>2</td>\n",
       "      <td>h</td>\n",
       "      <td>7</td>\n",
       "    </tr>\n",
       "    <tr>\n",
       "      <th>4</th>\n",
       "      <td>4</td>\n",
       "      <td>l</td>\n",
       "      <td>7</td>\n",
       "    </tr>\n",
       "    <tr>\n",
       "      <th>5</th>\n",
       "      <td>5</td>\n",
       "      <td>p</td>\n",
       "      <td>7</td>\n",
       "    </tr>\n",
       "  </tbody>\n",
       "</table>\n",
       "</div>"
      ],
      "text/plain": [
       "   one two  third column\n",
       "0    3   a             7\n",
       "1    4   b             7\n",
       "2    5   e             7\n",
       "3    2   h             7\n",
       "4    4   l             7\n",
       "5    5   p             7"
      ]
     },
     "execution_count": 53,
     "metadata": {},
     "output_type": "execute_result"
    }
   ],
   "source": [
    "df"
   ]
  },
  {
   "cell_type": "code",
   "execution_count": 55,
   "id": "f5619cfe",
   "metadata": {},
   "outputs": [
    {
     "data": {
      "text/plain": [
       "one             4\n",
       "two             b\n",
       "third column    7\n",
       "Name: 1, dtype: object"
      ]
     },
     "execution_count": 55,
     "metadata": {},
     "output_type": "execute_result"
    }
   ],
   "source": [
    "## for example we can get the 1 row of df like so with loc\n",
    "df.loc[1]"
   ]
  },
  {
   "cell_type": "code",
   "execution_count": 57,
   "id": "1bc6a872",
   "metadata": {},
   "outputs": [
    {
     "data": {
      "text/plain": [
       "one             4\n",
       "two             b\n",
       "third column    7\n",
       "Name: 1, dtype: object"
      ]
     },
     "execution_count": 57,
     "metadata": {},
     "output_type": "execute_result"
    }
   ],
   "source": [
    "## or like so with iloc\n",
    "df.iloc[1]"
   ]
  },
  {
   "cell_type": "markdown",
   "id": "e7e6baa5",
   "metadata": {},
   "source": [
    "The difference between `.loc` and `.iloc` is that `.iloc` is restricted to integer based indexing, while `.loc` is more versatile.\n",
    "\n",
    "This means that if your index is a list of strings you cannot use `.iloc` with just the index's normal value. For example try to run the following."
   ]
  },
  {
   "cell_type": "code",
   "execution_count": 59,
   "id": "b38e67d1",
   "metadata": {},
   "outputs": [
    {
     "data": {
      "text/plain": [
       "a    1\n",
       "b    2\n",
       "c    3\n",
       "d    4\n",
       "dtype: int64"
      ]
     },
     "execution_count": 59,
     "metadata": {},
     "output_type": "execute_result"
    }
   ],
   "source": [
    "## Recall what c is\n",
    "c"
   ]
  },
  {
   "cell_type": "code",
   "execution_count": 69,
   "id": "22ba8011",
   "metadata": {},
   "outputs": [
    {
     "ename": "TypeError",
     "evalue": "Cannot index by location index with a non-integer key",
     "output_type": "error",
     "traceback": [
      "\u001b[1;31m---------------------------------------------------------------------------\u001b[0m",
      "\u001b[1;31mTypeError\u001b[0m                                 Traceback (most recent call last)",
      "Cell \u001b[1;32mIn[69], line 2\u001b[0m\n\u001b[0;32m      1\u001b[0m \u001b[38;5;66;03m## now try to get the ath entry using .iloc\u001b[39;00m\n\u001b[1;32m----> 2\u001b[0m c\u001b[38;5;241m.\u001b[39miloc[\u001b[38;5;124m'\u001b[39m\u001b[38;5;124ma\u001b[39m\u001b[38;5;124m'\u001b[39m]\n",
      "File \u001b[1;32m~\\anaconda3\\Lib\\site-packages\\pandas\\core\\indexing.py:1191\u001b[0m, in \u001b[0;36m_LocationIndexer.__getitem__\u001b[1;34m(self, key)\u001b[0m\n\u001b[0;32m   1189\u001b[0m maybe_callable \u001b[38;5;241m=\u001b[39m com\u001b[38;5;241m.\u001b[39mapply_if_callable(key, \u001b[38;5;28mself\u001b[39m\u001b[38;5;241m.\u001b[39mobj)\n\u001b[0;32m   1190\u001b[0m maybe_callable \u001b[38;5;241m=\u001b[39m \u001b[38;5;28mself\u001b[39m\u001b[38;5;241m.\u001b[39m_check_deprecated_callable_usage(key, maybe_callable)\n\u001b[1;32m-> 1191\u001b[0m \u001b[38;5;28;01mreturn\u001b[39;00m \u001b[38;5;28mself\u001b[39m\u001b[38;5;241m.\u001b[39m_getitem_axis(maybe_callable, axis\u001b[38;5;241m=\u001b[39maxis)\n",
      "File \u001b[1;32m~\\anaconda3\\Lib\\site-packages\\pandas\\core\\indexing.py:1749\u001b[0m, in \u001b[0;36m_iLocIndexer._getitem_axis\u001b[1;34m(self, key, axis)\u001b[0m\n\u001b[0;32m   1747\u001b[0m key \u001b[38;5;241m=\u001b[39m item_from_zerodim(key)\n\u001b[0;32m   1748\u001b[0m \u001b[38;5;28;01mif\u001b[39;00m \u001b[38;5;129;01mnot\u001b[39;00m is_integer(key):\n\u001b[1;32m-> 1749\u001b[0m     \u001b[38;5;28;01mraise\u001b[39;00m \u001b[38;5;167;01mTypeError\u001b[39;00m(\u001b[38;5;124m\"\u001b[39m\u001b[38;5;124mCannot index by location index with a non-integer key\u001b[39m\u001b[38;5;124m\"\u001b[39m)\n\u001b[0;32m   1751\u001b[0m \u001b[38;5;66;03m# validate the location\u001b[39;00m\n\u001b[0;32m   1752\u001b[0m \u001b[38;5;28mself\u001b[39m\u001b[38;5;241m.\u001b[39m_validate_integer(key, axis)\n",
      "\u001b[1;31mTypeError\u001b[0m: Cannot index by location index with a non-integer key"
     ]
    }
   ],
   "source": [
    "## now try to get the ath entry using .iloc\n",
    "c.iloc['a']"
   ]
  },
  {
   "cell_type": "code",
   "execution_count": 67,
   "id": "6efab017",
   "metadata": {},
   "outputs": [
    {
     "data": {
      "text/plain": [
       "1"
      ]
     },
     "execution_count": 67,
     "metadata": {},
     "output_type": "execute_result"
    }
   ],
   "source": [
    "## instead we'd have to notice that the \"a\" entry is\n",
    "## the 0 entry if the index were a normal integer based index\n",
    "c.iloc[0]"
   ]
  },
  {
   "cell_type": "code",
   "execution_count": 73,
   "id": "0c790251",
   "metadata": {},
   "outputs": [
    {
     "data": {
      "text/plain": [
       "1"
      ]
     },
     "execution_count": 73,
     "metadata": {},
     "output_type": "execute_result"
    }
   ],
   "source": [
    "## However, we can just insert \"a\" into .loc\n",
    "c.loc['a']"
   ]
  },
  {
   "cell_type": "code",
   "execution_count": 75,
   "id": "6d712b6a-eb20-43b9-b651-46d9d38e2d21",
   "metadata": {},
   "outputs": [
    {
     "data": {
      "text/html": [
       "<div>\n",
       "<style scoped>\n",
       "    .dataframe tbody tr th:only-of-type {\n",
       "        vertical-align: middle;\n",
       "    }\n",
       "\n",
       "    .dataframe tbody tr th {\n",
       "        vertical-align: top;\n",
       "    }\n",
       "\n",
       "    .dataframe thead th {\n",
       "        text-align: right;\n",
       "    }\n",
       "</style>\n",
       "<table border=\"1\" class=\"dataframe\">\n",
       "  <thead>\n",
       "    <tr style=\"text-align: right;\">\n",
       "      <th></th>\n",
       "      <th>one</th>\n",
       "      <th>two</th>\n",
       "      <th>third column</th>\n",
       "    </tr>\n",
       "  </thead>\n",
       "  <tbody>\n",
       "    <tr>\n",
       "      <th>0</th>\n",
       "      <td>3</td>\n",
       "      <td>a</td>\n",
       "      <td>7</td>\n",
       "    </tr>\n",
       "    <tr>\n",
       "      <th>1</th>\n",
       "      <td>4</td>\n",
       "      <td>b</td>\n",
       "      <td>7</td>\n",
       "    </tr>\n",
       "    <tr>\n",
       "      <th>2</th>\n",
       "      <td>5</td>\n",
       "      <td>e</td>\n",
       "      <td>7</td>\n",
       "    </tr>\n",
       "    <tr>\n",
       "      <th>3</th>\n",
       "      <td>2</td>\n",
       "      <td>h</td>\n",
       "      <td>7</td>\n",
       "    </tr>\n",
       "    <tr>\n",
       "      <th>4</th>\n",
       "      <td>4</td>\n",
       "      <td>l</td>\n",
       "      <td>7</td>\n",
       "    </tr>\n",
       "    <tr>\n",
       "      <th>5</th>\n",
       "      <td>5</td>\n",
       "      <td>p</td>\n",
       "      <td>7</td>\n",
       "    </tr>\n",
       "  </tbody>\n",
       "</table>\n",
       "</div>"
      ],
      "text/plain": [
       "   one two  third column\n",
       "0    3   a             7\n",
       "1    4   b             7\n",
       "2    5   e             7\n",
       "3    2   h             7\n",
       "4    4   l             7\n",
       "5    5   p             7"
      ]
     },
     "execution_count": 75,
     "metadata": {},
     "output_type": "execute_result"
    }
   ],
   "source": [
    "df"
   ]
  },
  {
   "cell_type": "code",
   "execution_count": 83,
   "id": "d3626a5e-0f6f-4151-acff-7abac2301a09",
   "metadata": {},
   "outputs": [
    {
     "data": {
      "text/plain": [
       "0    7\n",
       "1    7\n",
       "2    7\n",
       "3    7\n",
       "4    7\n",
       "5    7\n",
       "Name: third column, dtype: int64"
      ]
     },
     "execution_count": 83,
     "metadata": {},
     "output_type": "execute_result"
    }
   ],
   "source": [
    "df['third column']"
   ]
  },
  {
   "cell_type": "markdown",
   "id": "b5b21c6b",
   "metadata": {},
   "source": [
    "Another difference is that `.loc` can be used to perform boolean indexing (eg. find me all the rows where the first column is between $2$ and $4$)"
   ]
  },
  {
   "cell_type": "code",
   "execution_count": 113,
   "id": "2dcb35f2",
   "metadata": {},
   "outputs": [
    {
     "data": {
      "text/html": [
       "<div>\n",
       "<style scoped>\n",
       "    .dataframe tbody tr th:only-of-type {\n",
       "        vertical-align: middle;\n",
       "    }\n",
       "\n",
       "    .dataframe tbody tr th {\n",
       "        vertical-align: top;\n",
       "    }\n",
       "\n",
       "    .dataframe thead th {\n",
       "        text-align: right;\n",
       "    }\n",
       "</style>\n",
       "<table border=\"1\" class=\"dataframe\">\n",
       "  <thead>\n",
       "    <tr style=\"text-align: right;\">\n",
       "      <th></th>\n",
       "      <th>one</th>\n",
       "      <th>two</th>\n",
       "      <th>third column</th>\n",
       "    </tr>\n",
       "  </thead>\n",
       "  <tbody>\n",
       "    <tr>\n",
       "      <th>0</th>\n",
       "      <td>3</td>\n",
       "      <td>a</td>\n",
       "      <td>7</td>\n",
       "    </tr>\n",
       "    <tr>\n",
       "      <th>1</th>\n",
       "      <td>4</td>\n",
       "      <td>b</td>\n",
       "      <td>7</td>\n",
       "    </tr>\n",
       "    <tr>\n",
       "      <th>2</th>\n",
       "      <td>5</td>\n",
       "      <td>e</td>\n",
       "      <td>7</td>\n",
       "    </tr>\n",
       "    <tr>\n",
       "      <th>4</th>\n",
       "      <td>4</td>\n",
       "      <td>l</td>\n",
       "      <td>7</td>\n",
       "    </tr>\n",
       "    <tr>\n",
       "      <th>5</th>\n",
       "      <td>5</td>\n",
       "      <td>p</td>\n",
       "      <td>7</td>\n",
       "    </tr>\n",
       "  </tbody>\n",
       "</table>\n",
       "</div>"
      ],
      "text/plain": [
       "   one two  third column\n",
       "0    3   a             7\n",
       "1    4   b             7\n",
       "2    5   e             7\n",
       "4    4   l             7\n",
       "5    5   p             7"
      ]
     },
     "execution_count": 113,
     "metadata": {},
     "output_type": "execute_result"
    }
   ],
   "source": [
    "df.loc[(df.one > 2) | (df['third column'] < 4) ]"
   ]
  },
  {
   "cell_type": "code",
   "execution_count": 115,
   "id": "e9a4f63c",
   "metadata": {},
   "outputs": [
    {
     "data": {
      "text/html": [
       "<div>\n",
       "<style scoped>\n",
       "    .dataframe tbody tr th:only-of-type {\n",
       "        vertical-align: middle;\n",
       "    }\n",
       "\n",
       "    .dataframe tbody tr th {\n",
       "        vertical-align: top;\n",
       "    }\n",
       "\n",
       "    .dataframe thead th {\n",
       "        text-align: right;\n",
       "    }\n",
       "</style>\n",
       "<table border=\"1\" class=\"dataframe\">\n",
       "  <thead>\n",
       "    <tr style=\"text-align: right;\">\n",
       "      <th></th>\n",
       "      <th>one</th>\n",
       "      <th>two</th>\n",
       "      <th>third column</th>\n",
       "    </tr>\n",
       "  </thead>\n",
       "  <tbody>\n",
       "    <tr>\n",
       "      <th>0</th>\n",
       "      <td>3</td>\n",
       "      <td>a</td>\n",
       "      <td>7</td>\n",
       "    </tr>\n",
       "  </tbody>\n",
       "</table>\n",
       "</div>"
      ],
      "text/plain": [
       "   one two  third column\n",
       "0    3   a             7"
      ]
     },
     "execution_count": 115,
     "metadata": {},
     "output_type": "execute_result"
    }
   ],
   "source": [
    "## give me all the rows where the \"one\" column is between 2 and 4\n",
    "df.loc[(df.one > 2) & (df.one < 4)]"
   ]
  },
  {
   "cell_type": "code",
   "execution_count": 121,
   "id": "7e416d12",
   "metadata": {},
   "outputs": [
    {
     "data": {
      "text/html": [
       "<div>\n",
       "<style scoped>\n",
       "    .dataframe tbody tr th:only-of-type {\n",
       "        vertical-align: middle;\n",
       "    }\n",
       "\n",
       "    .dataframe tbody tr th {\n",
       "        vertical-align: top;\n",
       "    }\n",
       "\n",
       "    .dataframe thead th {\n",
       "        text-align: right;\n",
       "    }\n",
       "</style>\n",
       "<table border=\"1\" class=\"dataframe\">\n",
       "  <thead>\n",
       "    <tr style=\"text-align: right;\">\n",
       "      <th></th>\n",
       "      <th>one</th>\n",
       "      <th>two</th>\n",
       "    </tr>\n",
       "  </thead>\n",
       "  <tbody>\n",
       "    <tr>\n",
       "      <th>0</th>\n",
       "      <td>3</td>\n",
       "      <td>a</td>\n",
       "    </tr>\n",
       "  </tbody>\n",
       "</table>\n",
       "</div>"
      ],
      "text/plain": [
       "   one two\n",
       "0    3   a"
      ]
     },
     "execution_count": 121,
     "metadata": {},
     "output_type": "execute_result"
    }
   ],
   "source": [
    "## we can even go one step further and find a specific column\n",
    "df.loc[(df.one > 2) & (df.one < 4), [\"one\",\"two\"]]"
   ]
  },
  {
   "cell_type": "code",
   "execution_count": null,
   "id": "f98dd15d",
   "metadata": {},
   "outputs": [],
   "source": [
    "## or a subset of many columns\n",
    "## in this case you enter the subset as a list of column name strings\n",
    "df.loc[]"
   ]
  },
  {
   "cell_type": "code",
   "execution_count": 123,
   "id": "5eb62dbe",
   "metadata": {},
   "outputs": [
    {
     "data": {
      "text/html": [
       "<div>\n",
       "<style scoped>\n",
       "    .dataframe tbody tr th:only-of-type {\n",
       "        vertical-align: middle;\n",
       "    }\n",
       "\n",
       "    .dataframe tbody tr th {\n",
       "        vertical-align: top;\n",
       "    }\n",
       "\n",
       "    .dataframe thead th {\n",
       "        text-align: right;\n",
       "    }\n",
       "</style>\n",
       "<table border=\"1\" class=\"dataframe\">\n",
       "  <thead>\n",
       "    <tr style=\"text-align: right;\">\n",
       "      <th></th>\n",
       "      <th>third column</th>\n",
       "      <th>two</th>\n",
       "    </tr>\n",
       "  </thead>\n",
       "  <tbody>\n",
       "    <tr>\n",
       "      <th>0</th>\n",
       "      <td>7</td>\n",
       "      <td>a</td>\n",
       "    </tr>\n",
       "  </tbody>\n",
       "</table>\n",
       "</div>"
      ],
      "text/plain": [
       "   third column two\n",
       "0             7   a"
      ]
     },
     "execution_count": 123,
     "metadata": {},
     "output_type": "execute_result"
    }
   ],
   "source": [
    "## order of columns can even be different from dataframe\n",
    "df.loc[(df.one < 4) & (df.one > 2), ['third column','two']]"
   ]
  },
  {
   "cell_type": "markdown",
   "id": "3517e913",
   "metadata": {},
   "source": [
    "### Reading in a `.csv` file with `pandas`\n",
    "\n",
    "You can also read in common data file types with `pandas`. Let's load the following."
   ]
  },
  {
   "cell_type": "code",
   "execution_count": 125,
   "id": "33aa384c",
   "metadata": {},
   "outputs": [],
   "source": [
    "## You can read in a csv with\n",
    "## pd.read_csv(\"filename.csv\")\n",
    "## https://pandas.pydata.org/docs/reference/api/pandas.read_csv.html\n",
    "\n",
    "## We'll work with the following dataframe in the next section\n",
    "jr_shots = pd.read_csv(\"../data/JR_Smith_Shots_2015_16.csv\")"
   ]
  },
  {
   "cell_type": "code",
   "execution_count": null,
   "id": "13571983",
   "metadata": {},
   "outputs": [],
   "source": [
    "jr_shots"
   ]
  },
  {
   "cell_type": "code",
   "execution_count": 127,
   "id": "37b34aa6",
   "metadata": {},
   "outputs": [],
   "source": [
    "## You code\n",
    "## read in the file \"beer.csv\" using pandas\n",
    "## call it beer_df\n",
    "beer_df = pd.read_csv(\"../data/beer.csv\")\n",
    "\n",
    "## you'll practice with this dataframe in the next section"
   ]
  },
  {
   "cell_type": "code",
   "execution_count": null,
   "id": "2ac1b7f6",
   "metadata": {},
   "outputs": [],
   "source": [
    "beer_df"
   ]
  },
  {
   "cell_type": "code",
   "execution_count": 131,
   "id": "43231d36-5c93-4e04-9456-c0329a63ac62",
   "metadata": {},
   "outputs": [
    {
     "name": "stdout",
     "output_type": "stream",
     "text": [
      "C:\\Users\\11794\\Documents\\GitHub\\python-prep\\lectures\\beer.csv\n"
     ]
    }
   ],
   "source": [
    "import os\n",
    "print(os.path.abspath('beer.csv'))"
   ]
  },
  {
   "cell_type": "markdown",
   "id": "54227e89",
   "metadata": {},
   "source": [
    "There are other useful `read` functions like `read_table` and `read_json`, you will see those later."
   ]
  },
  {
   "cell_type": "markdown",
   "id": "0ff2d34a",
   "metadata": {},
   "source": [
    "### Helpful `pandas` functions\n",
    "\n",
    "`pandas` offers some really nice built in functions to help you explore any data set you're dealing with. Let's explore them below."
   ]
  },
  {
   "cell_type": "code",
   "execution_count": 135,
   "id": "263dde45",
   "metadata": {},
   "outputs": [
    {
     "data": {
      "text/html": [
       "<div>\n",
       "<style scoped>\n",
       "    .dataframe tbody tr th:only-of-type {\n",
       "        vertical-align: middle;\n",
       "    }\n",
       "\n",
       "    .dataframe tbody tr th {\n",
       "        vertical-align: top;\n",
       "    }\n",
       "\n",
       "    .dataframe thead th {\n",
       "        text-align: right;\n",
       "    }\n",
       "</style>\n",
       "<table border=\"1\" class=\"dataframe\">\n",
       "  <thead>\n",
       "    <tr style=\"text-align: right;\">\n",
       "      <th></th>\n",
       "      <th>LOC_X</th>\n",
       "      <th>LOC_Y</th>\n",
       "      <th>SHOT_MADE_FLAG</th>\n",
       "    </tr>\n",
       "  </thead>\n",
       "  <tbody>\n",
       "    <tr>\n",
       "      <th>0</th>\n",
       "      <td>-106</td>\n",
       "      <td>244</td>\n",
       "      <td>0</td>\n",
       "    </tr>\n",
       "    <tr>\n",
       "      <th>1</th>\n",
       "      <td>-96</td>\n",
       "      <td>97</td>\n",
       "      <td>0</td>\n",
       "    </tr>\n",
       "    <tr>\n",
       "      <th>2</th>\n",
       "      <td>30</td>\n",
       "      <td>23</td>\n",
       "      <td>0</td>\n",
       "    </tr>\n",
       "    <tr>\n",
       "      <th>3</th>\n",
       "      <td>-204</td>\n",
       "      <td>-1</td>\n",
       "      <td>0</td>\n",
       "    </tr>\n",
       "    <tr>\n",
       "      <th>4</th>\n",
       "      <td>-76</td>\n",
       "      <td>237</td>\n",
       "      <td>0</td>\n",
       "    </tr>\n",
       "    <tr>\n",
       "      <th>5</th>\n",
       "      <td>25</td>\n",
       "      <td>23</td>\n",
       "      <td>1</td>\n",
       "    </tr>\n",
       "  </tbody>\n",
       "</table>\n",
       "</div>"
      ],
      "text/plain": [
       "   LOC_X  LOC_Y  SHOT_MADE_FLAG\n",
       "0   -106    244               0\n",
       "1    -96     97               0\n",
       "2     30     23               0\n",
       "3   -204     -1               0\n",
       "4    -76    237               0\n",
       "5     25     23               1"
      ]
     },
     "execution_count": 135,
     "metadata": {},
     "output_type": "execute_result"
    }
   ],
   "source": [
    "## df.head(n) let's you inspect the first n rows of the dataframe\n",
    "## n defaults to 5\n",
    "## https://pandas.pydata.org/docs/reference/api/pandas.DataFrame.head.html\n",
    "jr_shots.head(6)"
   ]
  },
  {
   "cell_type": "code",
   "execution_count": 141,
   "id": "9f53ce63",
   "metadata": {},
   "outputs": [
    {
     "data": {
      "text/html": [
       "<div>\n",
       "<style scoped>\n",
       "    .dataframe tbody tr th:only-of-type {\n",
       "        vertical-align: middle;\n",
       "    }\n",
       "\n",
       "    .dataframe tbody tr th {\n",
       "        vertical-align: top;\n",
       "    }\n",
       "\n",
       "    .dataframe thead th {\n",
       "        text-align: right;\n",
       "    }\n",
       "</style>\n",
       "<table border=\"1\" class=\"dataframe\">\n",
       "  <thead>\n",
       "    <tr style=\"text-align: right;\">\n",
       "      <th></th>\n",
       "      <th>IBU</th>\n",
       "      <th>ABV</th>\n",
       "      <th>Rating</th>\n",
       "      <th>Beer_Type</th>\n",
       "    </tr>\n",
       "  </thead>\n",
       "  <tbody>\n",
       "    <tr>\n",
       "      <th>345</th>\n",
       "      <td>70</td>\n",
       "      <td>6.8</td>\n",
       "      <td>4.015</td>\n",
       "      <td>IPA</td>\n",
       "    </tr>\n",
       "    <tr>\n",
       "      <th>346</th>\n",
       "      <td>80</td>\n",
       "      <td>6.9</td>\n",
       "      <td>3.554</td>\n",
       "      <td>IPA</td>\n",
       "    </tr>\n",
       "  </tbody>\n",
       "</table>\n",
       "</div>"
      ],
      "text/plain": [
       "     IBU  ABV  Rating Beer_Type\n",
       "345   70  6.8   4.015       IPA\n",
       "346   80  6.9   3.554       IPA"
      ]
     },
     "execution_count": 141,
     "metadata": {},
     "output_type": "execute_result"
    }
   ],
   "source": [
    "## You code \n",
    "## investigate what .tail(n) does \n",
    "## using the beer_df\n",
    "## https://pandas.pydata.org/docs/reference/api/pandas.DataFrame.tail.html\n",
    "## Hint: n must be an integer\n",
    "beer_df.tail(2)\n"
   ]
  },
  {
   "cell_type": "code",
   "execution_count": 163,
   "id": "ef5425e7",
   "metadata": {},
   "outputs": [
    {
     "data": {
      "text/html": [
       "<div>\n",
       "<style scoped>\n",
       "    .dataframe tbody tr th:only-of-type {\n",
       "        vertical-align: middle;\n",
       "    }\n",
       "\n",
       "    .dataframe tbody tr th {\n",
       "        vertical-align: top;\n",
       "    }\n",
       "\n",
       "    .dataframe thead th {\n",
       "        text-align: right;\n",
       "    }\n",
       "</style>\n",
       "<table border=\"1\" class=\"dataframe\">\n",
       "  <thead>\n",
       "    <tr style=\"text-align: right;\">\n",
       "      <th></th>\n",
       "      <th>IBU</th>\n",
       "      <th>ABV</th>\n",
       "      <th>Rating</th>\n",
       "      <th>Beer_Type</th>\n",
       "    </tr>\n",
       "  </thead>\n",
       "  <tbody>\n",
       "    <tr>\n",
       "      <th>301</th>\n",
       "      <td>62</td>\n",
       "      <td>6.8</td>\n",
       "      <td>4.073</td>\n",
       "      <td>IPA</td>\n",
       "    </tr>\n",
       "    <tr>\n",
       "      <th>5</th>\n",
       "      <td>60</td>\n",
       "      <td>15.2</td>\n",
       "      <td>4.404</td>\n",
       "      <td>Stout</td>\n",
       "    </tr>\n",
       "  </tbody>\n",
       "</table>\n",
       "</div>"
      ],
      "text/plain": [
       "     IBU   ABV  Rating Beer_Type\n",
       "301   62   6.8   4.073       IPA\n",
       "5     60  15.2   4.404     Stout"
      ]
     },
     "execution_count": 163,
     "metadata": {},
     "output_type": "execute_result"
    }
   ],
   "source": [
    "## You code\n",
    "## investigate what .sample(n) does\n",
    "## using the beer_df\n",
    "## https://pandas.pydata.org/docs/reference/api/pandas.DataFrame.sample.html\n",
    "## Hint: n must be an integer\n",
    "beer_df.sample(2,random_state=440)"
   ]
  },
  {
   "cell_type": "code",
   "execution_count": 159,
   "id": "1205561d",
   "metadata": {},
   "outputs": [],
   "source": [
    "## You code\n",
    "## what happens when you add the argument\n",
    "## random_state=440 in .sample()?\n",
    "## rerun the code chunk multiple times with or without the random_state\n",
    "## try different numbers for the random_state\n"
   ]
  },
  {
   "cell_type": "code",
   "execution_count": 165,
   "id": "8e9a91a7",
   "metadata": {},
   "outputs": [
    {
     "name": "stdout",
     "output_type": "stream",
     "text": [
      "<class 'pandas.core.frame.DataFrame'>\n",
      "RangeIndex: 849 entries, 0 to 848\n",
      "Data columns (total 3 columns):\n",
      " #   Column          Non-Null Count  Dtype\n",
      "---  ------          --------------  -----\n",
      " 0   LOC_X           849 non-null    int64\n",
      " 1   LOC_Y           849 non-null    int64\n",
      " 2   SHOT_MADE_FLAG  849 non-null    int64\n",
      "dtypes: int64(3)\n",
      "memory usage: 20.0 KB\n"
     ]
    }
   ],
   "source": [
    "## df.info() tells you useful information about your\n",
    "## dataframe, like the column names,\n",
    "## the number of rows,\n",
    "## the number of non-empty entries for each column,\n",
    "## the data type of each column\n",
    "## and how much memory the dataframe uses\n",
    "## https://pandas.pydata.org/docs/reference/api/pandas.DataFrame.info.html\n",
    "jr_shots.info()"
   ]
  },
  {
   "cell_type": "code",
   "execution_count": 167,
   "id": "07f69a78",
   "metadata": {},
   "outputs": [
    {
     "data": {
      "text/html": [
       "<div>\n",
       "<style scoped>\n",
       "    .dataframe tbody tr th:only-of-type {\n",
       "        vertical-align: middle;\n",
       "    }\n",
       "\n",
       "    .dataframe tbody tr th {\n",
       "        vertical-align: top;\n",
       "    }\n",
       "\n",
       "    .dataframe thead th {\n",
       "        text-align: right;\n",
       "    }\n",
       "</style>\n",
       "<table border=\"1\" class=\"dataframe\">\n",
       "  <thead>\n",
       "    <tr style=\"text-align: right;\">\n",
       "      <th></th>\n",
       "      <th>LOC_X</th>\n",
       "      <th>LOC_Y</th>\n",
       "      <th>SHOT_MADE_FLAG</th>\n",
       "    </tr>\n",
       "  </thead>\n",
       "  <tbody>\n",
       "    <tr>\n",
       "      <th>count</th>\n",
       "      <td>849.000000</td>\n",
       "      <td>849.000000</td>\n",
       "      <td>849.000000</td>\n",
       "    </tr>\n",
       "    <tr>\n",
       "      <th>mean</th>\n",
       "      <td>-6.204947</td>\n",
       "      <td>112.106007</td>\n",
       "      <td>0.414605</td>\n",
       "    </tr>\n",
       "    <tr>\n",
       "      <th>std</th>\n",
       "      <td>157.201943</td>\n",
       "      <td>91.254429</td>\n",
       "      <td>0.492944</td>\n",
       "    </tr>\n",
       "    <tr>\n",
       "      <th>min</th>\n",
       "      <td>-250.000000</td>\n",
       "      <td>-46.000000</td>\n",
       "      <td>0.000000</td>\n",
       "    </tr>\n",
       "    <tr>\n",
       "      <th>25%</th>\n",
       "      <td>-158.000000</td>\n",
       "      <td>21.000000</td>\n",
       "      <td>0.000000</td>\n",
       "    </tr>\n",
       "    <tr>\n",
       "      <th>50%</th>\n",
       "      <td>-2.000000</td>\n",
       "      <td>110.000000</td>\n",
       "      <td>0.000000</td>\n",
       "    </tr>\n",
       "    <tr>\n",
       "      <th>75%</th>\n",
       "      <td>133.000000</td>\n",
       "      <td>193.000000</td>\n",
       "      <td>1.000000</td>\n",
       "    </tr>\n",
       "    <tr>\n",
       "      <th>max</th>\n",
       "      <td>245.000000</td>\n",
       "      <td>693.000000</td>\n",
       "      <td>1.000000</td>\n",
       "    </tr>\n",
       "  </tbody>\n",
       "</table>\n",
       "</div>"
      ],
      "text/plain": [
       "            LOC_X       LOC_Y  SHOT_MADE_FLAG\n",
       "count  849.000000  849.000000      849.000000\n",
       "mean    -6.204947  112.106007        0.414605\n",
       "std    157.201943   91.254429        0.492944\n",
       "min   -250.000000  -46.000000        0.000000\n",
       "25%   -158.000000   21.000000        0.000000\n",
       "50%     -2.000000  110.000000        0.000000\n",
       "75%    133.000000  193.000000        1.000000\n",
       "max    245.000000  693.000000        1.000000"
      ]
     },
     "execution_count": 167,
     "metadata": {},
     "output_type": "execute_result"
    }
   ],
   "source": [
    "## df.describe()\n",
    "## provides the 5 stat breakdown of each numeric column\n",
    "## that is any column that consists of integers or floats\n",
    "## will have its, minimum, maximum, first quartile, median,\n",
    "## third quartile, and mean provided\n",
    "## https://pandas.pydata.org/docs/reference/api/pandas.DataFrame.describe.html\n",
    "jr_shots.describe()"
   ]
  },
  {
   "cell_type": "code",
   "execution_count": 175,
   "id": "462b935d-c121-47f1-87f6-9e8d6c691042",
   "metadata": {},
   "outputs": [
    {
     "data": {
      "text/html": [
       "<div>\n",
       "<style scoped>\n",
       "    .dataframe tbody tr th:only-of-type {\n",
       "        vertical-align: middle;\n",
       "    }\n",
       "\n",
       "    .dataframe tbody tr th {\n",
       "        vertical-align: top;\n",
       "    }\n",
       "\n",
       "    .dataframe thead th {\n",
       "        text-align: right;\n",
       "    }\n",
       "</style>\n",
       "<table border=\"1\" class=\"dataframe\">\n",
       "  <thead>\n",
       "    <tr style=\"text-align: right;\">\n",
       "      <th></th>\n",
       "      <th>IBU</th>\n",
       "      <th>ABV</th>\n",
       "      <th>Rating</th>\n",
       "      <th>Beer_Type</th>\n",
       "    </tr>\n",
       "  </thead>\n",
       "  <tbody>\n",
       "    <tr>\n",
       "      <th>0</th>\n",
       "      <td>45</td>\n",
       "      <td>4.2</td>\n",
       "      <td>3.792</td>\n",
       "      <td>Stout</td>\n",
       "    </tr>\n",
       "    <tr>\n",
       "      <th>1</th>\n",
       "      <td>60</td>\n",
       "      <td>8.3</td>\n",
       "      <td>4.145</td>\n",
       "      <td>Stout</td>\n",
       "    </tr>\n",
       "    <tr>\n",
       "      <th>2</th>\n",
       "      <td>25</td>\n",
       "      <td>6.0</td>\n",
       "      <td>3.951</td>\n",
       "      <td>Stout</td>\n",
       "    </tr>\n",
       "    <tr>\n",
       "      <th>3</th>\n",
       "      <td>31</td>\n",
       "      <td>11.0</td>\n",
       "      <td>4.062</td>\n",
       "      <td>Stout</td>\n",
       "    </tr>\n",
       "    <tr>\n",
       "      <th>4</th>\n",
       "      <td>75</td>\n",
       "      <td>9.0</td>\n",
       "      <td>4.018</td>\n",
       "      <td>Stout</td>\n",
       "    </tr>\n",
       "    <tr>\n",
       "      <th>...</th>\n",
       "      <td>...</td>\n",
       "      <td>...</td>\n",
       "      <td>...</td>\n",
       "      <td>...</td>\n",
       "    </tr>\n",
       "    <tr>\n",
       "      <th>342</th>\n",
       "      <td>68</td>\n",
       "      <td>8.2</td>\n",
       "      <td>3.922</td>\n",
       "      <td>IPA</td>\n",
       "    </tr>\n",
       "    <tr>\n",
       "      <th>343</th>\n",
       "      <td>45</td>\n",
       "      <td>6.8</td>\n",
       "      <td>4.000</td>\n",
       "      <td>IPA</td>\n",
       "    </tr>\n",
       "    <tr>\n",
       "      <th>344</th>\n",
       "      <td>101</td>\n",
       "      <td>9.2</td>\n",
       "      <td>3.778</td>\n",
       "      <td>IPA</td>\n",
       "    </tr>\n",
       "    <tr>\n",
       "      <th>345</th>\n",
       "      <td>70</td>\n",
       "      <td>6.8</td>\n",
       "      <td>4.015</td>\n",
       "      <td>IPA</td>\n",
       "    </tr>\n",
       "    <tr>\n",
       "      <th>346</th>\n",
       "      <td>80</td>\n",
       "      <td>6.9</td>\n",
       "      <td>3.554</td>\n",
       "      <td>IPA</td>\n",
       "    </tr>\n",
       "  </tbody>\n",
       "</table>\n",
       "<p>347 rows × 4 columns</p>\n",
       "</div>"
      ],
      "text/plain": [
       "     IBU   ABV  Rating Beer_Type\n",
       "0     45   4.2   3.792     Stout\n",
       "1     60   8.3   4.145     Stout\n",
       "2     25   6.0   3.951     Stout\n",
       "3     31  11.0   4.062     Stout\n",
       "4     75   9.0   4.018     Stout\n",
       "..   ...   ...     ...       ...\n",
       "342   68   8.2   3.922       IPA\n",
       "343   45   6.8   4.000       IPA\n",
       "344  101   9.2   3.778       IPA\n",
       "345   70   6.8   4.015       IPA\n",
       "346   80   6.9   3.554       IPA\n",
       "\n",
       "[347 rows x 4 columns]"
      ]
     },
     "execution_count": 175,
     "metadata": {},
     "output_type": "execute_result"
    }
   ],
   "source": [
    "beer_df"
   ]
  },
  {
   "cell_type": "code",
   "execution_count": 195,
   "id": "b23ca39e",
   "metadata": {},
   "outputs": [
    {
     "name": "stdout",
     "output_type": "stream",
     "text": [
      "IBU       57.579251\n",
      "ABV        7.639769\n",
      "Rating     3.853980\n",
      "dtype: float64\n"
     ]
    }
   ],
   "source": [
    "## You code\n",
    "## Try out .mean() and .max() and .min()\n",
    "## on beer_df\n",
    "## Compare the results to .describe()'s output\n",
    "\n",
    "## .mean() - https://pandas.pydata.org/docs/reference/api/pandas.DataFrame.mean.html\n",
    "## .max() - https://pandas.pydata.org/docs/reference/api/pandas.DataFrame.max.html\n",
    "## .min() - https://pandas.pydata.org/docs/reference/api/pandas.DataFrame.min.html\n",
    "print(beer_df.select_dtypes(include='number').mean())"
   ]
  },
  {
   "cell_type": "code",
   "execution_count": 207,
   "id": "b9749074",
   "metadata": {},
   "outputs": [
    {
     "data": {
      "text/plain": [
       "SHOT_MADE_FLAG\n",
       "0    497\n",
       "1    352\n",
       "Name: count, dtype: int64"
      ]
     },
     "execution_count": 207,
     "metadata": {},
     "output_type": "execute_result"
    }
   ],
   "source": [
    "## What about variables that aren't numeric? Like\n",
    "## classes\n",
    "## You can use df.value_counts() for those\n",
    "## https://pandas.pydata.org/docs/reference/api/pandas.DataFrame.value_counts.html\n",
    "jr_shots.SHOT_MADE_FLAG.value_counts()"
   ]
  },
  {
   "cell_type": "markdown",
   "id": "bbe9fdc7",
   "metadata": {},
   "source": [
    "The above tells us that 497 observations have a `SHOT_MADE_FLAG` of 0 and 352 have a `SHOT_MADE_FLAG` of 1."
   ]
  },
  {
   "cell_type": "code",
   "execution_count": 203,
   "id": "6ee3378c",
   "metadata": {},
   "outputs": [
    {
     "name": "stdout",
     "output_type": "stream",
     "text": [
      "Beer_Type\n",
      "IPA      195\n",
      "Stout    152\n",
      "Name: count, dtype: int64\n",
      "Beer_Type\n",
      "IPA      195\n",
      "Stout    152\n",
      "Name: count, dtype: int64\n"
     ]
    }
   ],
   "source": [
    "## You code\n",
    "## How many of each \"Beer_Type\" are there in beer_df?\n",
    "print(beer_df.Beer_Type.value_counts())\n",
    "\n",
    "## What happens when you input the argument normalize=True into value_counts()?\n",
    "print(beer_df.Beer_Type.value_counts(normalize=False))\n"
   ]
  },
  {
   "cell_type": "markdown",
   "id": "ace110e6",
   "metadata": {},
   "source": [
    "One task that we will do quite often in the boot camp is split one data set into two non-overlapping data sets. Let's see how we can do that here."
   ]
  },
  {
   "cell_type": "code",
   "execution_count": 211,
   "id": "82fbcb9c",
   "metadata": {},
   "outputs": [],
   "source": [
    "## Let's first randomly sample 100 observations from jr_shots\n",
    "## Note the .copy()\n",
    "## this creates a deep copy of the DataFrame \n",
    "jr_1 = jr_shots.sample(100,random_state=111).copy()"
   ]
  },
  {
   "cell_type": "code",
   "execution_count": 213,
   "id": "b5a31e62",
   "metadata": {},
   "outputs": [
    {
     "name": "stdout",
     "output_type": "stream",
     "text": [
      "Index([166, 164, 375, 627, 425, 469, 810,   1, 423, 720, 405, 314,  93, 167,\n",
      "       112, 162,  52, 331, 406, 644, 822, 101, 751, 722,  71, 489, 523,  36,\n",
      "       237, 119, 640, 211, 194, 460, 295,  12, 361, 243, 431, 257, 766, 597,\n",
      "        56, 801, 371, 744, 444, 122, 230, 847, 538, 759, 234, 790, 281, 205,\n",
      "       450, 152, 596, 663, 146, 629, 492, 782,  34, 294, 564, 693, 778, 768,\n",
      "       434, 516, 843, 298, 649, 121, 671, 323, 541, 214, 262, 209, 638, 474,\n",
      "       497, 277, 291,  49, 502, 692, 835, 446, 705, 145,  11, 795,  39, 126,\n",
      "       183, 422],\n",
      "      dtype='int64')\n"
     ]
    }
   ],
   "source": [
    "## To create jr_2 we'll just drop the indices of jr_1 from\n",
    "## jr_shots using .drop()\n",
    "## https://pandas.pydata.org/docs/reference/api/pandas.DataFrame.drop.html\n",
    "\n",
    "## Again we include .copy() to make a deep copy of the dataframe\n",
    "print(jr_1.index)\n",
    "jr_2 = jr_shots.drop(jr_1.index).copy()"
   ]
  },
  {
   "cell_type": "code",
   "execution_count": 215,
   "id": "8699cae9",
   "metadata": {},
   "outputs": [
    {
     "data": {
      "text/html": [
       "<div>\n",
       "<style scoped>\n",
       "    .dataframe tbody tr th:only-of-type {\n",
       "        vertical-align: middle;\n",
       "    }\n",
       "\n",
       "    .dataframe tbody tr th {\n",
       "        vertical-align: top;\n",
       "    }\n",
       "\n",
       "    .dataframe thead th {\n",
       "        text-align: right;\n",
       "    }\n",
       "</style>\n",
       "<table border=\"1\" class=\"dataframe\">\n",
       "  <thead>\n",
       "    <tr style=\"text-align: right;\">\n",
       "      <th></th>\n",
       "      <th>LOC_X</th>\n",
       "      <th>LOC_Y</th>\n",
       "      <th>SHOT_MADE_FLAG</th>\n",
       "    </tr>\n",
       "  </thead>\n",
       "  <tbody>\n",
       "    <tr>\n",
       "      <th>166</th>\n",
       "      <td>186</td>\n",
       "      <td>169</td>\n",
       "      <td>1</td>\n",
       "    </tr>\n",
       "    <tr>\n",
       "      <th>164</th>\n",
       "      <td>19</td>\n",
       "      <td>247</td>\n",
       "      <td>1</td>\n",
       "    </tr>\n",
       "    <tr>\n",
       "      <th>375</th>\n",
       "      <td>0</td>\n",
       "      <td>41</td>\n",
       "      <td>0</td>\n",
       "    </tr>\n",
       "    <tr>\n",
       "      <th>627</th>\n",
       "      <td>-230</td>\n",
       "      <td>110</td>\n",
       "      <td>1</td>\n",
       "    </tr>\n",
       "    <tr>\n",
       "      <th>425</th>\n",
       "      <td>2</td>\n",
       "      <td>56</td>\n",
       "      <td>1</td>\n",
       "    </tr>\n",
       "    <tr>\n",
       "      <th>...</th>\n",
       "      <td>...</td>\n",
       "      <td>...</td>\n",
       "      <td>...</td>\n",
       "    </tr>\n",
       "    <tr>\n",
       "      <th>795</th>\n",
       "      <td>9</td>\n",
       "      <td>3</td>\n",
       "      <td>0</td>\n",
       "    </tr>\n",
       "    <tr>\n",
       "      <th>39</th>\n",
       "      <td>104</td>\n",
       "      <td>2</td>\n",
       "      <td>0</td>\n",
       "    </tr>\n",
       "    <tr>\n",
       "      <th>126</th>\n",
       "      <td>200</td>\n",
       "      <td>2</td>\n",
       "      <td>0</td>\n",
       "    </tr>\n",
       "    <tr>\n",
       "      <th>183</th>\n",
       "      <td>99</td>\n",
       "      <td>144</td>\n",
       "      <td>1</td>\n",
       "    </tr>\n",
       "    <tr>\n",
       "      <th>422</th>\n",
       "      <td>-246</td>\n",
       "      <td>-5</td>\n",
       "      <td>1</td>\n",
       "    </tr>\n",
       "  </tbody>\n",
       "</table>\n",
       "<p>100 rows × 3 columns</p>\n",
       "</div>"
      ],
      "text/plain": [
       "     LOC_X  LOC_Y  SHOT_MADE_FLAG\n",
       "166    186    169               1\n",
       "164     19    247               1\n",
       "375      0     41               0\n",
       "627   -230    110               1\n",
       "425      2     56               1\n",
       "..     ...    ...             ...\n",
       "795      9      3               0\n",
       "39     104      2               0\n",
       "126    200      2               0\n",
       "183     99    144               1\n",
       "422   -246     -5               1\n",
       "\n",
       "[100 rows x 3 columns]"
      ]
     },
     "execution_count": 215,
     "metadata": {},
     "output_type": "execute_result"
    }
   ],
   "source": [
    "jr_1"
   ]
  },
  {
   "cell_type": "code",
   "execution_count": 217,
   "id": "51e1185f",
   "metadata": {},
   "outputs": [
    {
     "data": {
      "text/html": [
       "<div>\n",
       "<style scoped>\n",
       "    .dataframe tbody tr th:only-of-type {\n",
       "        vertical-align: middle;\n",
       "    }\n",
       "\n",
       "    .dataframe tbody tr th {\n",
       "        vertical-align: top;\n",
       "    }\n",
       "\n",
       "    .dataframe thead th {\n",
       "        text-align: right;\n",
       "    }\n",
       "</style>\n",
       "<table border=\"1\" class=\"dataframe\">\n",
       "  <thead>\n",
       "    <tr style=\"text-align: right;\">\n",
       "      <th></th>\n",
       "      <th>LOC_X</th>\n",
       "      <th>LOC_Y</th>\n",
       "      <th>SHOT_MADE_FLAG</th>\n",
       "    </tr>\n",
       "  </thead>\n",
       "  <tbody>\n",
       "    <tr>\n",
       "      <th>0</th>\n",
       "      <td>-106</td>\n",
       "      <td>244</td>\n",
       "      <td>0</td>\n",
       "    </tr>\n",
       "    <tr>\n",
       "      <th>2</th>\n",
       "      <td>30</td>\n",
       "      <td>23</td>\n",
       "      <td>0</td>\n",
       "    </tr>\n",
       "    <tr>\n",
       "      <th>3</th>\n",
       "      <td>-204</td>\n",
       "      <td>-1</td>\n",
       "      <td>0</td>\n",
       "    </tr>\n",
       "    <tr>\n",
       "      <th>4</th>\n",
       "      <td>-76</td>\n",
       "      <td>237</td>\n",
       "      <td>0</td>\n",
       "    </tr>\n",
       "    <tr>\n",
       "      <th>5</th>\n",
       "      <td>25</td>\n",
       "      <td>23</td>\n",
       "      <td>1</td>\n",
       "    </tr>\n",
       "    <tr>\n",
       "      <th>...</th>\n",
       "      <td>...</td>\n",
       "      <td>...</td>\n",
       "      <td>...</td>\n",
       "    </tr>\n",
       "    <tr>\n",
       "      <th>842</th>\n",
       "      <td>171</td>\n",
       "      <td>178</td>\n",
       "      <td>1</td>\n",
       "    </tr>\n",
       "    <tr>\n",
       "      <th>844</th>\n",
       "      <td>145</td>\n",
       "      <td>-15</td>\n",
       "      <td>0</td>\n",
       "    </tr>\n",
       "    <tr>\n",
       "      <th>845</th>\n",
       "      <td>-241</td>\n",
       "      <td>67</td>\n",
       "      <td>0</td>\n",
       "    </tr>\n",
       "    <tr>\n",
       "      <th>846</th>\n",
       "      <td>164</td>\n",
       "      <td>195</td>\n",
       "      <td>0</td>\n",
       "    </tr>\n",
       "    <tr>\n",
       "      <th>848</th>\n",
       "      <td>-89</td>\n",
       "      <td>288</td>\n",
       "      <td>0</td>\n",
       "    </tr>\n",
       "  </tbody>\n",
       "</table>\n",
       "<p>749 rows × 3 columns</p>\n",
       "</div>"
      ],
      "text/plain": [
       "     LOC_X  LOC_Y  SHOT_MADE_FLAG\n",
       "0     -106    244               0\n",
       "2       30     23               0\n",
       "3     -204     -1               0\n",
       "4      -76    237               0\n",
       "5       25     23               1\n",
       "..     ...    ...             ...\n",
       "842    171    178               1\n",
       "844    145    -15               0\n",
       "845   -241     67               0\n",
       "846    164    195               0\n",
       "848    -89    288               0\n",
       "\n",
       "[749 rows x 3 columns]"
      ]
     },
     "execution_count": 217,
     "metadata": {},
     "output_type": "execute_result"
    }
   ],
   "source": [
    "jr_2"
   ]
  },
  {
   "cell_type": "code",
   "execution_count": 219,
   "id": "253fb5bb",
   "metadata": {},
   "outputs": [
    {
     "data": {
      "text/plain": [
       "True"
      ]
     },
     "execution_count": 219,
     "metadata": {},
     "output_type": "execute_result"
    }
   ],
   "source": [
    "## Let's check that it worked like we thought it would\n",
    "len(jr_1) + len(jr_2) == len(jr_shots)"
   ]
  },
  {
   "cell_type": "code",
   "execution_count": 241,
   "id": "02a39c61",
   "metadata": {},
   "outputs": [],
   "source": [
    "## You code\n",
    "## split beer_df into beer_1 and beer_2\n",
    "## beer_1 should be a random sample of 150 observations\n",
    "## beer_2 should be all rows not in beer_1\n",
    "beer_1 = beer_df.sample(150,random_state=255447).copy()\n",
    "beer_2 = beer_df.drop(beer_1.index).copy()"
   ]
  },
  {
   "cell_type": "code",
   "execution_count": 243,
   "id": "850bd93d",
   "metadata": {},
   "outputs": [
    {
     "name": "stdout",
     "output_type": "stream",
     "text": [
      "     IBU  ABV  Rating Beer_Type\n",
      "44    30  6.1   3.860     Stout\n",
      "131   30  8.0   4.036     Stout\n",
      "169   50  6.0   3.700       IPA\n",
      "331   70  6.8   3.680       IPA\n",
      "172   75  7.5   3.858       IPA\n",
      "..   ...  ...     ...       ...\n",
      "321  100  9.2   4.244       IPA\n",
      "55    18  8.0   3.746     Stout\n",
      "210   50  6.0   3.536       IPA\n",
      "170   70  7.0   3.831       IPA\n",
      "34    37  5.2   3.770     Stout\n",
      "\n",
      "[150 rows x 4 columns]\n",
      "     IBU   ABV  Rating Beer_Type\n",
      "2     25   6.0   3.951     Stout\n",
      "3     31  11.0   4.062     Stout\n",
      "5     60  15.2   4.404     Stout\n",
      "8     39   5.9   3.997     Stout\n",
      "9     15   5.7   3.728     Stout\n",
      "..   ...   ...     ...       ...\n",
      "338   45   7.0   3.395       IPA\n",
      "340   38   6.9   3.647       IPA\n",
      "341   70   7.2   3.549       IPA\n",
      "343   45   6.8   4.000       IPA\n",
      "345   70   6.8   4.015       IPA\n",
      "\n",
      "[197 rows x 4 columns]\n"
     ]
    }
   ],
   "source": [
    "print(beer_1)\n",
    "print(beer_2)"
   ]
  },
  {
   "cell_type": "markdown",
   "id": "cd672138",
   "metadata": {},
   "source": [
    "### Saving a `DataFrame` to File\n",
    "\n",
    "Just like we easily read in a data file we can use `pandas` to quickly save data to a file.\n",
    "\n",
    "This is done with the function `df.to_csv()`, <a href=\"https://pandas.pydata.org/docs/reference/api/pandas.DataFrame.to_csv.html\">https://pandas.pydata.org/docs/reference/api/pandas.DataFrame.to_csv.html</a>."
   ]
  },
  {
   "cell_type": "code",
   "execution_count": 245,
   "id": "8a183b8f",
   "metadata": {},
   "outputs": [
    {
     "data": {
      "text/html": [
       "<div>\n",
       "<style scoped>\n",
       "    .dataframe tbody tr th:only-of-type {\n",
       "        vertical-align: middle;\n",
       "    }\n",
       "\n",
       "    .dataframe tbody tr th {\n",
       "        vertical-align: top;\n",
       "    }\n",
       "\n",
       "    .dataframe thead th {\n",
       "        text-align: right;\n",
       "    }\n",
       "</style>\n",
       "<table border=\"1\" class=\"dataframe\">\n",
       "  <thead>\n",
       "    <tr style=\"text-align: right;\">\n",
       "      <th></th>\n",
       "      <th>a</th>\n",
       "      <th>b</th>\n",
       "      <th>c</th>\n",
       "    </tr>\n",
       "  </thead>\n",
       "  <tbody>\n",
       "    <tr>\n",
       "      <th>0</th>\n",
       "      <td>1</td>\n",
       "      <td>2</td>\n",
       "      <td>17</td>\n",
       "    </tr>\n",
       "    <tr>\n",
       "      <th>1</th>\n",
       "      <td>2</td>\n",
       "      <td>4</td>\n",
       "      <td>34</td>\n",
       "    </tr>\n",
       "    <tr>\n",
       "      <th>2</th>\n",
       "      <td>3</td>\n",
       "      <td>6</td>\n",
       "      <td>51</td>\n",
       "    </tr>\n",
       "  </tbody>\n",
       "</table>\n",
       "</div>"
      ],
      "text/plain": [
       "   a  b   c\n",
       "0  1  2  17\n",
       "1  2  4  34\n",
       "2  3  6  51"
      ]
     },
     "execution_count": 245,
     "metadata": {},
     "output_type": "execute_result"
    }
   ],
   "source": [
    "## Let's first make a data frame\n",
    "df = pd.DataFrame({'a':[1,2,3],\n",
    "                   'b':[2,4,6],\n",
    "                   'c':[17,34,51]})\n",
    "\n",
    "df"
   ]
  },
  {
   "cell_type": "code",
   "execution_count": 259,
   "id": "f4a83274",
   "metadata": {},
   "outputs": [],
   "source": [
    "## Now we call df.to_csv(file_name)\n",
    "df.to_csv(\"../data/our_first_dataframe.csv\")"
   ]
  },
  {
   "cell_type": "markdown",
   "id": "46259a25",
   "metadata": {},
   "source": [
    "Go ahead and check your repository, you should now see `our_first_dataframe.csv` in there."
   ]
  },
  {
   "cell_type": "code",
   "execution_count": 263,
   "id": "80f2cfcd",
   "metadata": {},
   "outputs": [],
   "source": [
    "## You code\n",
    "## read in \"our_first_dataframe.csv\" using read_csv\n",
    "## then look at the df\n",
    "\n",
    "df = pd.read_csv(\"../data/our_first_dataframe.csv\")\n",
    "## is anything off?"
   ]
  },
  {
   "cell_type": "code",
   "execution_count": 265,
   "id": "c24dbd9a-c01c-4cf1-9ce0-f0536e1fbad0",
   "metadata": {},
   "outputs": [
    {
     "data": {
      "text/html": [
       "<div>\n",
       "<style scoped>\n",
       "    .dataframe tbody tr th:only-of-type {\n",
       "        vertical-align: middle;\n",
       "    }\n",
       "\n",
       "    .dataframe tbody tr th {\n",
       "        vertical-align: top;\n",
       "    }\n",
       "\n",
       "    .dataframe thead th {\n",
       "        text-align: right;\n",
       "    }\n",
       "</style>\n",
       "<table border=\"1\" class=\"dataframe\">\n",
       "  <thead>\n",
       "    <tr style=\"text-align: right;\">\n",
       "      <th></th>\n",
       "      <th>Unnamed: 0</th>\n",
       "      <th>a</th>\n",
       "      <th>b</th>\n",
       "      <th>c</th>\n",
       "    </tr>\n",
       "  </thead>\n",
       "  <tbody>\n",
       "    <tr>\n",
       "      <th>0</th>\n",
       "      <td>0</td>\n",
       "      <td>1</td>\n",
       "      <td>2</td>\n",
       "      <td>17</td>\n",
       "    </tr>\n",
       "    <tr>\n",
       "      <th>1</th>\n",
       "      <td>1</td>\n",
       "      <td>2</td>\n",
       "      <td>4</td>\n",
       "      <td>34</td>\n",
       "    </tr>\n",
       "    <tr>\n",
       "      <th>2</th>\n",
       "      <td>2</td>\n",
       "      <td>3</td>\n",
       "      <td>6</td>\n",
       "      <td>51</td>\n",
       "    </tr>\n",
       "  </tbody>\n",
       "</table>\n",
       "</div>"
      ],
      "text/plain": [
       "   Unnamed: 0  a  b   c\n",
       "0           0  1  2  17\n",
       "1           1  2  4  34\n",
       "2           2  3  6  51"
      ]
     },
     "execution_count": 265,
     "metadata": {},
     "output_type": "execute_result"
    }
   ],
   "source": [
    "df"
   ]
  },
  {
   "cell_type": "markdown",
   "id": "69fbd502",
   "metadata": {},
   "source": [
    "When you ran `to_csv()` the default is to record the index as well. That is why your `DataFrame` has an unlabeled column when you read it back in using `read_csv`. If we wanted to avoid writing the index to file you include the argument `index=False`. "
   ]
  },
  {
   "cell_type": "code",
   "execution_count": 267,
   "id": "0b71acc9",
   "metadata": {},
   "outputs": [
    {
     "data": {
      "text/html": [
       "<div>\n",
       "<style scoped>\n",
       "    .dataframe tbody tr th:only-of-type {\n",
       "        vertical-align: middle;\n",
       "    }\n",
       "\n",
       "    .dataframe tbody tr th {\n",
       "        vertical-align: top;\n",
       "    }\n",
       "\n",
       "    .dataframe thead th {\n",
       "        text-align: right;\n",
       "    }\n",
       "</style>\n",
       "<table border=\"1\" class=\"dataframe\">\n",
       "  <thead>\n",
       "    <tr style=\"text-align: right;\">\n",
       "      <th></th>\n",
       "      <th>a</th>\n",
       "      <th>b</th>\n",
       "      <th>c</th>\n",
       "    </tr>\n",
       "  </thead>\n",
       "  <tbody>\n",
       "    <tr>\n",
       "      <th>0</th>\n",
       "      <td>1</td>\n",
       "      <td>2</td>\n",
       "      <td>17</td>\n",
       "    </tr>\n",
       "    <tr>\n",
       "      <th>1</th>\n",
       "      <td>2</td>\n",
       "      <td>4</td>\n",
       "      <td>34</td>\n",
       "    </tr>\n",
       "    <tr>\n",
       "      <th>2</th>\n",
       "      <td>3</td>\n",
       "      <td>6</td>\n",
       "      <td>51</td>\n",
       "    </tr>\n",
       "  </tbody>\n",
       "</table>\n",
       "</div>"
      ],
      "text/plain": [
       "   a  b   c\n",
       "0  1  2  17\n",
       "1  2  4  34\n",
       "2  3  6  51"
      ]
     },
     "execution_count": 267,
     "metadata": {},
     "output_type": "execute_result"
    }
   ],
   "source": [
    "## Make the DataFrame again\n",
    "df = pd.DataFrame({'a':[1,2,3],\n",
    "                   'b':[2,4,6],\n",
    "                   'c':[17,34,51]})\n",
    "\n",
    "df"
   ]
  },
  {
   "cell_type": "code",
   "execution_count": 269,
   "id": "88c9069f",
   "metadata": {},
   "outputs": [],
   "source": [
    "## write it to file without the index\n",
    "df.to_csv(\"../data/our_first_dataframe.csv\", index=False)"
   ]
  },
  {
   "cell_type": "code",
   "execution_count": 271,
   "id": "1a5e7ae1",
   "metadata": {},
   "outputs": [
    {
     "data": {
      "text/html": [
       "<div>\n",
       "<style scoped>\n",
       "    .dataframe tbody tr th:only-of-type {\n",
       "        vertical-align: middle;\n",
       "    }\n",
       "\n",
       "    .dataframe tbody tr th {\n",
       "        vertical-align: top;\n",
       "    }\n",
       "\n",
       "    .dataframe thead th {\n",
       "        text-align: right;\n",
       "    }\n",
       "</style>\n",
       "<table border=\"1\" class=\"dataframe\">\n",
       "  <thead>\n",
       "    <tr style=\"text-align: right;\">\n",
       "      <th></th>\n",
       "      <th>a</th>\n",
       "      <th>b</th>\n",
       "      <th>c</th>\n",
       "    </tr>\n",
       "  </thead>\n",
       "  <tbody>\n",
       "    <tr>\n",
       "      <th>0</th>\n",
       "      <td>1</td>\n",
       "      <td>2</td>\n",
       "      <td>17</td>\n",
       "    </tr>\n",
       "    <tr>\n",
       "      <th>1</th>\n",
       "      <td>2</td>\n",
       "      <td>4</td>\n",
       "      <td>34</td>\n",
       "    </tr>\n",
       "    <tr>\n",
       "      <th>2</th>\n",
       "      <td>3</td>\n",
       "      <td>6</td>\n",
       "      <td>51</td>\n",
       "    </tr>\n",
       "  </tbody>\n",
       "</table>\n",
       "</div>"
      ],
      "text/plain": [
       "   a  b   c\n",
       "0  1  2  17\n",
       "1  2  4  34\n",
       "2  3  6  51"
      ]
     },
     "execution_count": 271,
     "metadata": {},
     "output_type": "execute_result"
    }
   ],
   "source": [
    "## You code\n",
    "## read in \"our_first_dataframe.csv\" using read_csv\n",
    "## then look at the df again\n",
    "df = pd.read_csv(\"../data/our_first_dataframe.csv\")\n",
    "df\n",
    "\n"
   ]
  },
  {
   "cell_type": "markdown",
   "id": "a05e616a",
   "metadata": {},
   "source": [
    "That's all you will need to know from `pandas` to have a firm footing for our boot camp. We will learn more stuff as we go along, but when that time comes you should be ready!"
   ]
  },
  {
   "cell_type": "markdown",
   "id": "51ba8462",
   "metadata": {},
   "source": [
    "--------------------------\n",
    "\n",
    "This notebook was written for the Erd&#337;s Institute C&#337;de Data Science Boot Camp by Matthew Osborne, Ph. D., 2023.\n",
    "\n",
    "Any potential redistributors must seek and receive permission from Matthew Tyler Osborne, Ph.D. prior to redistribution. Redistribution of the material contained in this repository is conditional on acknowledgement of Matthew Tyler Osborne, Ph.D.'s original authorship and sponsorship of the Erdős Institute as subject to the license (see License.md)"
   ]
  },
  {
   "cell_type": "code",
   "execution_count": null,
   "id": "0ef03bd1",
   "metadata": {},
   "outputs": [],
   "source": []
  }
 ],
 "metadata": {
  "kernelspec": {
   "display_name": "Python [conda env:base] *",
   "language": "python",
   "name": "conda-base-py"
  },
  "language_info": {
   "codemirror_mode": {
    "name": "ipython",
    "version": 3
   },
   "file_extension": ".py",
   "mimetype": "text/x-python",
   "name": "python",
   "nbconvert_exporter": "python",
   "pygments_lexer": "ipython3",
   "version": "3.12.7"
  }
 },
 "nbformat": 4,
 "nbformat_minor": 5
}
